{
  "nbformat": 4,
  "nbformat_minor": 0,
  "metadata": {
    "kernelspec": {
      "display_name": "Python 3",
      "language": "python",
      "name": "python3"
    },
    "language_info": {
      "codemirror_mode": {
        "name": "ipython",
        "version": 3
      },
      "file_extension": ".py",
      "mimetype": "text/x-python",
      "name": "python",
      "nbconvert_exporter": "python",
      "pygments_lexer": "ipython3",
      "version": "3.8.5"
    },
    "colab": {
      "name": "Исследование надёжности заёмщиков проект.ipynb",
      "provenance": []
    }
  },
  "cells": [
    {
      "cell_type": "markdown",
      "metadata": {
        "id": "hvI100CCIHJk"
      },
      "source": [
        "## Исследование надёжности заёмщиков\n",
        "\n",
        "Заказчик — кредитный отдел банка. Нужно разобраться, влияет ли семейное положение и количество детей клиента на факт погашения кредита в срок. Входные данные от банка — статистика о платёжеспособности клиентов.\n",
        "\n",
        "Результаты исследования будут учтены при построении модели **кредитного скоринга** — специальной системы, которая оценивает способность потенциального заёмщика вернуть кредит банку."
      ]
    },
    {
      "cell_type": "markdown",
      "metadata": {
        "id": "PpNI2wj2IHJp"
      },
      "source": [
        "<a id='start'></a>"
      ]
    },
    {
      "cell_type": "markdown",
      "metadata": {
        "id": "ayXWkZcYIHJr"
      },
      "source": [
        "### Исследование надёжности заёмщиков\n",
        "_____\n",
        "##### В данном исследовании представлены несколько таблиц с  категоризацией данных по возростной группе, уровню дохода, а так же перечнем самых популярных целей кредитования\n",
        "______\n",
        "\n",
        "###### Данное исследование разделим на несколько частей.\n",
        "\n",
        "##### Часть 1. Изучение общей информации \n",
        "\n",
        "* <a href='#step_1'>Исследуем общую информацию таблицы</a>\n",
        "* <a href='#step_1.1'>Посмотрим на первые и последние 5 строк табицы с данными</a>\n",
        "* <a href='#step_1.2'>Проверим количество дубликатов</a>\n",
        "* <a href='#step_1.3'>Вывод</a>\n",
        "\n",
        "\n",
        "##### Часть 2. Предобработка данных \n",
        "\n",
        "* <a href='#step_2'>Обработка неверных значений</a>\n",
        "* <a href='#step_2.1'>Обработка пропусков</a>\n",
        "* <a href='#step_2.2'>Замена типа данных</a>\n",
        "* <a href='#step_2.3'>Проверка корректности числовых значений в таблице</a>\n",
        "    * <a href='#step_2.4.1'>Обработка некорректных данных в столбце 'children'</a>\n",
        "    * <a href='#step_2.4.2'>Обработка некорректных данных в столбце 'days_employed'</a>\n",
        "    * <a href='#step_2.4.3'>Обработка некорректных данных в столбце 'dob_years'</a>    \n",
        "    * <a href='#step_2.4'>Вывод</a>\n",
        "* <a href='#step_2.5'>Обработка дубликатов</a>\n",
        "    * <a href='#step_2.5.1'>Просмотрим уникальные значения в столбце 'education'</a>\n",
        "    * <a href='#step_2.5.2'>Просмотрим уникальные значения в столбце 'family_status'</a>\n",
        "    * <a href='#step_2.5.3'>Просмотрим уникальные значения в столбце 'gender'</a>\n",
        "    * <a href='#step_2.5.4'>Просмотрим список уникальных значений по столбцу 'purpose'</a>\n",
        "    * <a href='#step_2.5.5'>Вывод</a>\n",
        "* <a href='#step_2.6'>Лемматизация</a>\n",
        "    * <a href='#step_2.6.1'>Вывод </a>\n",
        "* <a href='#step_2.7'>Категоризация данных</a>\n",
        "    * <a href='#step_2.7.0'>Произведём подсчёт количества кредитов по основным целям</a>\n",
        "    * <a href='#step_2.7.1'>Выделим топ 10 основных потребностей клиентов для получения кредита</a>\n",
        "    * <a href='#step_2.7.2'>Выделим основные группы людей, кому требуется кредит</a>\n",
        "    * <a href='#step_2.7.3'>Произведём категоризацию данных по возростной группе</a>\n",
        "    * <a href='#step_2.7.4'>Cведём все данные в сводную таблицу для оценки зависимости категории граждан от возврата/невозврата кредита</a>\n",
        "    \n",
        "    * <a href='#step_2.8'>Вывод</a>\n",
        "\n",
        "\n",
        "##### Часть 3. Ответы на вопросы\n",
        "* <a href='#step_3'>Есть ли зависимость между наличием детей и возвратом кредита в срок?</a>\n",
        "    * <a href='#step_3.1.1'>Вывод </a>\n",
        "* <a href='#step_3.1'>Есть ли зависимость между семейным положением и возвратом кредита в срок?</a>\n",
        "    * <a href='#step_3.1.2'>Вывод </a>\n",
        "* <a href='#step_3.2'>Есть ли зависимость между уровнем дохода и возвратом кредита в срок?</a>\n",
        "    * <a href='#step_3.1.3'>Вывод </a>\n",
        "* <a href='#step_3.3'>Как разные цели кредита влияют на его возврат в срок?</a>\n",
        "    * <a href='#step_3.1.4'>Вывод </a>\n",
        "\n",
        "##### Часть 4. Обший вывод по проведённому исследованию \n",
        "* <a href='#step_4'>Вывод</a>"
      ]
    },
    {
      "cell_type": "markdown",
      "metadata": {
        "id": "r3bEULAcIHJu"
      },
      "source": [
        "<a id='step_1'></a>"
      ]
    },
    {
      "cell_type": "markdown",
      "metadata": {
        "id": "YyPfHdjrIHJv"
      },
      "source": [
        "### Часть 1. Откроем файл с данными и изучим общую информацию. "
      ]
    },
    {
      "cell_type": "markdown",
      "metadata": {
        "id": "96B1yGoBIHJv"
      },
      "source": [
        "##### исследуем общую информацию таблицы"
      ]
    },
    {
      "cell_type": "code",
      "metadata": {
        "scrolled": false,
        "id": "_m06jdmqIHJw"
      },
      "source": [
        "import pandas as pd"
      ],
      "execution_count": null,
      "outputs": []
    },
    {
      "cell_type": "code",
      "metadata": {
        "id": "2R8GoQEWIHJw",
        "outputId": "8dc4722a-72ab-4f91-e65e-fb39096fba9e"
      },
      "source": [
        "data = pd.read_csv('data.csv')\n",
        "data.info() "
      ],
      "execution_count": null,
      "outputs": [
        {
          "output_type": "stream",
          "text": [
            "<class 'pandas.core.frame.DataFrame'>\n",
            "RangeIndex: 21525 entries, 0 to 21524\n",
            "Data columns (total 12 columns):\n",
            " #   Column            Non-Null Count  Dtype  \n",
            "---  ------            --------------  -----  \n",
            " 0   children          21525 non-null  int64  \n",
            " 1   days_employed     19351 non-null  float64\n",
            " 2   dob_years         21525 non-null  int64  \n",
            " 3   education         21525 non-null  object \n",
            " 4   education_id      21525 non-null  int64  \n",
            " 5   family_status     21525 non-null  object \n",
            " 6   family_status_id  21525 non-null  int64  \n",
            " 7   gender            21525 non-null  object \n",
            " 8   income_type       21525 non-null  object \n",
            " 9   debt              21525 non-null  int64  \n",
            " 10  total_income      19351 non-null  float64\n",
            " 11  purpose           21525 non-null  object \n",
            "dtypes: float64(2), int64(5), object(5)\n",
            "memory usage: 2.0+ MB\n"
          ],
          "name": "stdout"
        }
      ]
    },
    {
      "cell_type": "markdown",
      "metadata": {
        "id": "_RqUoA6TIHJy"
      },
      "source": [
        "<a id='step_1.1'></a>"
      ]
    },
    {
      "cell_type": "markdown",
      "metadata": {
        "id": "vx-hvyTWIHJ1"
      },
      "source": [
        "##### посмотрим на первые и последние 5 строк табицы с данными"
      ]
    },
    {
      "cell_type": "code",
      "metadata": {
        "scrolled": true,
        "id": "ucVKC_zlIHJ1",
        "outputId": "f315ef70-ed20-419c-cdb2-ae28438fc988"
      },
      "source": [
        "data.head()"
      ],
      "execution_count": null,
      "outputs": [
        {
          "output_type": "execute_result",
          "data": {
            "text/html": [
              "<div>\n",
              "<style scoped>\n",
              "    .dataframe tbody tr th:only-of-type {\n",
              "        vertical-align: middle;\n",
              "    }\n",
              "\n",
              "    .dataframe tbody tr th {\n",
              "        vertical-align: top;\n",
              "    }\n",
              "\n",
              "    .dataframe thead th {\n",
              "        text-align: right;\n",
              "    }\n",
              "</style>\n",
              "<table border=\"1\" class=\"dataframe\">\n",
              "  <thead>\n",
              "    <tr style=\"text-align: right;\">\n",
              "      <th></th>\n",
              "      <th>children</th>\n",
              "      <th>days_employed</th>\n",
              "      <th>dob_years</th>\n",
              "      <th>education</th>\n",
              "      <th>education_id</th>\n",
              "      <th>family_status</th>\n",
              "      <th>family_status_id</th>\n",
              "      <th>gender</th>\n",
              "      <th>income_type</th>\n",
              "      <th>debt</th>\n",
              "      <th>total_income</th>\n",
              "      <th>purpose</th>\n",
              "    </tr>\n",
              "  </thead>\n",
              "  <tbody>\n",
              "    <tr>\n",
              "      <td>0</td>\n",
              "      <td>1</td>\n",
              "      <td>-8437.673028</td>\n",
              "      <td>42</td>\n",
              "      <td>высшее</td>\n",
              "      <td>0</td>\n",
              "      <td>женат / замужем</td>\n",
              "      <td>0</td>\n",
              "      <td>F</td>\n",
              "      <td>сотрудник</td>\n",
              "      <td>0</td>\n",
              "      <td>253875.639453</td>\n",
              "      <td>покупка жилья</td>\n",
              "    </tr>\n",
              "    <tr>\n",
              "      <td>1</td>\n",
              "      <td>1</td>\n",
              "      <td>-4024.803754</td>\n",
              "      <td>36</td>\n",
              "      <td>среднее</td>\n",
              "      <td>1</td>\n",
              "      <td>женат / замужем</td>\n",
              "      <td>0</td>\n",
              "      <td>F</td>\n",
              "      <td>сотрудник</td>\n",
              "      <td>0</td>\n",
              "      <td>112080.014102</td>\n",
              "      <td>приобретение автомобиля</td>\n",
              "    </tr>\n",
              "    <tr>\n",
              "      <td>2</td>\n",
              "      <td>0</td>\n",
              "      <td>-5623.422610</td>\n",
              "      <td>33</td>\n",
              "      <td>Среднее</td>\n",
              "      <td>1</td>\n",
              "      <td>женат / замужем</td>\n",
              "      <td>0</td>\n",
              "      <td>M</td>\n",
              "      <td>сотрудник</td>\n",
              "      <td>0</td>\n",
              "      <td>145885.952297</td>\n",
              "      <td>покупка жилья</td>\n",
              "    </tr>\n",
              "    <tr>\n",
              "      <td>3</td>\n",
              "      <td>3</td>\n",
              "      <td>-4124.747207</td>\n",
              "      <td>32</td>\n",
              "      <td>среднее</td>\n",
              "      <td>1</td>\n",
              "      <td>женат / замужем</td>\n",
              "      <td>0</td>\n",
              "      <td>M</td>\n",
              "      <td>сотрудник</td>\n",
              "      <td>0</td>\n",
              "      <td>267628.550329</td>\n",
              "      <td>дополнительное образование</td>\n",
              "    </tr>\n",
              "    <tr>\n",
              "      <td>4</td>\n",
              "      <td>0</td>\n",
              "      <td>340266.072047</td>\n",
              "      <td>53</td>\n",
              "      <td>среднее</td>\n",
              "      <td>1</td>\n",
              "      <td>гражданский брак</td>\n",
              "      <td>1</td>\n",
              "      <td>F</td>\n",
              "      <td>пенсионер</td>\n",
              "      <td>0</td>\n",
              "      <td>158616.077870</td>\n",
              "      <td>сыграть свадьбу</td>\n",
              "    </tr>\n",
              "  </tbody>\n",
              "</table>\n",
              "</div>"
            ],
            "text/plain": [
              "   children  days_employed  dob_years education  education_id  \\\n",
              "0         1   -8437.673028         42    высшее             0   \n",
              "1         1   -4024.803754         36   среднее             1   \n",
              "2         0   -5623.422610         33   Среднее             1   \n",
              "3         3   -4124.747207         32   среднее             1   \n",
              "4         0  340266.072047         53   среднее             1   \n",
              "\n",
              "      family_status  family_status_id gender income_type  debt   total_income  \\\n",
              "0   женат / замужем                 0      F   сотрудник     0  253875.639453   \n",
              "1   женат / замужем                 0      F   сотрудник     0  112080.014102   \n",
              "2   женат / замужем                 0      M   сотрудник     0  145885.952297   \n",
              "3   женат / замужем                 0      M   сотрудник     0  267628.550329   \n",
              "4  гражданский брак                 1      F   пенсионер     0  158616.077870   \n",
              "\n",
              "                      purpose  \n",
              "0               покупка жилья  \n",
              "1     приобретение автомобиля  \n",
              "2               покупка жилья  \n",
              "3  дополнительное образование  \n",
              "4             сыграть свадьбу  "
            ]
          },
          "metadata": {
            "tags": []
          },
          "execution_count": 3
        }
      ]
    },
    {
      "cell_type": "code",
      "metadata": {
        "scrolled": true,
        "id": "DqNQ90H3IHJ2",
        "outputId": "1ce2c806-e10f-42ca-b252-cc37f97663ba"
      },
      "source": [
        "data.tail() "
      ],
      "execution_count": null,
      "outputs": [
        {
          "output_type": "execute_result",
          "data": {
            "text/html": [
              "<div>\n",
              "<style scoped>\n",
              "    .dataframe tbody tr th:only-of-type {\n",
              "        vertical-align: middle;\n",
              "    }\n",
              "\n",
              "    .dataframe tbody tr th {\n",
              "        vertical-align: top;\n",
              "    }\n",
              "\n",
              "    .dataframe thead th {\n",
              "        text-align: right;\n",
              "    }\n",
              "</style>\n",
              "<table border=\"1\" class=\"dataframe\">\n",
              "  <thead>\n",
              "    <tr style=\"text-align: right;\">\n",
              "      <th></th>\n",
              "      <th>children</th>\n",
              "      <th>days_employed</th>\n",
              "      <th>dob_years</th>\n",
              "      <th>education</th>\n",
              "      <th>education_id</th>\n",
              "      <th>family_status</th>\n",
              "      <th>family_status_id</th>\n",
              "      <th>gender</th>\n",
              "      <th>income_type</th>\n",
              "      <th>debt</th>\n",
              "      <th>total_income</th>\n",
              "      <th>purpose</th>\n",
              "    </tr>\n",
              "  </thead>\n",
              "  <tbody>\n",
              "    <tr>\n",
              "      <td>21520</td>\n",
              "      <td>1</td>\n",
              "      <td>-4529.316663</td>\n",
              "      <td>43</td>\n",
              "      <td>среднее</td>\n",
              "      <td>1</td>\n",
              "      <td>гражданский брак</td>\n",
              "      <td>1</td>\n",
              "      <td>F</td>\n",
              "      <td>компаньон</td>\n",
              "      <td>0</td>\n",
              "      <td>224791.862382</td>\n",
              "      <td>операции с жильем</td>\n",
              "    </tr>\n",
              "    <tr>\n",
              "      <td>21521</td>\n",
              "      <td>0</td>\n",
              "      <td>343937.404131</td>\n",
              "      <td>67</td>\n",
              "      <td>среднее</td>\n",
              "      <td>1</td>\n",
              "      <td>женат / замужем</td>\n",
              "      <td>0</td>\n",
              "      <td>F</td>\n",
              "      <td>пенсионер</td>\n",
              "      <td>0</td>\n",
              "      <td>155999.806512</td>\n",
              "      <td>сделка с автомобилем</td>\n",
              "    </tr>\n",
              "    <tr>\n",
              "      <td>21522</td>\n",
              "      <td>1</td>\n",
              "      <td>-2113.346888</td>\n",
              "      <td>38</td>\n",
              "      <td>среднее</td>\n",
              "      <td>1</td>\n",
              "      <td>гражданский брак</td>\n",
              "      <td>1</td>\n",
              "      <td>M</td>\n",
              "      <td>сотрудник</td>\n",
              "      <td>1</td>\n",
              "      <td>89672.561153</td>\n",
              "      <td>недвижимость</td>\n",
              "    </tr>\n",
              "    <tr>\n",
              "      <td>21523</td>\n",
              "      <td>3</td>\n",
              "      <td>-3112.481705</td>\n",
              "      <td>38</td>\n",
              "      <td>среднее</td>\n",
              "      <td>1</td>\n",
              "      <td>женат / замужем</td>\n",
              "      <td>0</td>\n",
              "      <td>M</td>\n",
              "      <td>сотрудник</td>\n",
              "      <td>1</td>\n",
              "      <td>244093.050500</td>\n",
              "      <td>на покупку своего автомобиля</td>\n",
              "    </tr>\n",
              "    <tr>\n",
              "      <td>21524</td>\n",
              "      <td>2</td>\n",
              "      <td>-1984.507589</td>\n",
              "      <td>40</td>\n",
              "      <td>среднее</td>\n",
              "      <td>1</td>\n",
              "      <td>женат / замужем</td>\n",
              "      <td>0</td>\n",
              "      <td>F</td>\n",
              "      <td>сотрудник</td>\n",
              "      <td>0</td>\n",
              "      <td>82047.418899</td>\n",
              "      <td>на покупку автомобиля</td>\n",
              "    </tr>\n",
              "  </tbody>\n",
              "</table>\n",
              "</div>"
            ],
            "text/plain": [
              "       children  days_employed  dob_years education  education_id  \\\n",
              "21520         1   -4529.316663         43   среднее             1   \n",
              "21521         0  343937.404131         67   среднее             1   \n",
              "21522         1   -2113.346888         38   среднее             1   \n",
              "21523         3   -3112.481705         38   среднее             1   \n",
              "21524         2   -1984.507589         40   среднее             1   \n",
              "\n",
              "          family_status  family_status_id gender income_type  debt  \\\n",
              "21520  гражданский брак                 1      F   компаньон     0   \n",
              "21521   женат / замужем                 0      F   пенсионер     0   \n",
              "21522  гражданский брак                 1      M   сотрудник     1   \n",
              "21523   женат / замужем                 0      M   сотрудник     1   \n",
              "21524   женат / замужем                 0      F   сотрудник     0   \n",
              "\n",
              "        total_income                       purpose  \n",
              "21520  224791.862382             операции с жильем  \n",
              "21521  155999.806512          сделка с автомобилем  \n",
              "21522   89672.561153                  недвижимость  \n",
              "21523  244093.050500  на покупку своего автомобиля  \n",
              "21524   82047.418899         на покупку автомобиля  "
            ]
          },
          "metadata": {
            "tags": []
          },
          "execution_count": 4
        }
      ]
    },
    {
      "cell_type": "markdown",
      "metadata": {
        "id": "j1MX5i3sIHJ2"
      },
      "source": [
        "<a id='step_1.2'></a>"
      ]
    },
    {
      "cell_type": "markdown",
      "metadata": {
        "id": "E3wFZ_kqIHJ3"
      },
      "source": [
        "##### проверим количество дубликатов"
      ]
    },
    {
      "cell_type": "code",
      "metadata": {
        "id": "_nNzN98BIHJ3",
        "outputId": "f7bbc6b8-5c95-49f9-b06e-abc08f599fd8"
      },
      "source": [
        "print('Количество дубликатов в иходной таблице = ',data.duplicated().sum(), 'повторениям')"
      ],
      "execution_count": null,
      "outputs": [
        {
          "output_type": "stream",
          "text": [
            "Количество дубликатов в иходной таблице =  54 повторениям\n"
          ],
          "name": "stdout"
        }
      ]
    },
    {
      "cell_type": "markdown",
      "metadata": {
        "id": "A9mX60cdIHJ3"
      },
      "source": [
        "<a id='step_1.3'></a>"
      ]
    },
    {
      "cell_type": "markdown",
      "metadata": {
        "id": "Ej9FjuD-IHJ4"
      },
      "source": [
        "### Вывод"
      ]
    },
    {
      "cell_type": "markdown",
      "metadata": {
        "id": "hNm5zjA3IHJ4"
      },
      "source": [
        "При просмотре таблицы в глаза бросаются грубые ошибки в данных столбцов \"days_employed\" и \"total_income\" , судя по характеру данных, выгрузка в таблицу производится расчётом, в автоматическом порядке.\n",
        "Необходимо сообщить в аналитический отдел по сбору данных о системной ошибке."
      ]
    },
    {
      "cell_type": "markdown",
      "metadata": {
        "id": "l3f90pXKIHJ4"
      },
      "source": [
        "<a href='#start'>Вернуться к оглавлению</a>"
      ]
    },
    {
      "cell_type": "markdown",
      "metadata": {
        "id": "00J0chKnIHJ5"
      },
      "source": [
        "<a id='step_2'></a>"
      ]
    },
    {
      "cell_type": "markdown",
      "metadata": {
        "id": "-Z77BmmIIHJ5"
      },
      "source": [
        "### Часть 2. Предобработка данных"
      ]
    },
    {
      "cell_type": "markdown",
      "metadata": {
        "id": "iLw0UegSIHJ5"
      },
      "source": [
        "### Обработка неверных значений"
      ]
    },
    {
      "cell_type": "markdown",
      "metadata": {
        "id": "jHjzB8X6IHJ5"
      },
      "source": [
        "##### изменяем тип данных столбца 'days_employed'\n",
        "##### удаляем знак '-' и возвращаем тип данных в числовой методом .abs()"
      ]
    },
    {
      "cell_type": "code",
      "metadata": {
        "id": "-XaHh3quIHJ6",
        "outputId": "9ba115df-88b6-4e33-caf0-3216d4a0b5cf"
      },
      "source": [
        "data['days_employed'] = data['days_employed'].abs()\n",
        "data.head()"
      ],
      "execution_count": null,
      "outputs": [
        {
          "output_type": "execute_result",
          "data": {
            "text/html": [
              "<div>\n",
              "<style scoped>\n",
              "    .dataframe tbody tr th:only-of-type {\n",
              "        vertical-align: middle;\n",
              "    }\n",
              "\n",
              "    .dataframe tbody tr th {\n",
              "        vertical-align: top;\n",
              "    }\n",
              "\n",
              "    .dataframe thead th {\n",
              "        text-align: right;\n",
              "    }\n",
              "</style>\n",
              "<table border=\"1\" class=\"dataframe\">\n",
              "  <thead>\n",
              "    <tr style=\"text-align: right;\">\n",
              "      <th></th>\n",
              "      <th>children</th>\n",
              "      <th>days_employed</th>\n",
              "      <th>dob_years</th>\n",
              "      <th>education</th>\n",
              "      <th>education_id</th>\n",
              "      <th>family_status</th>\n",
              "      <th>family_status_id</th>\n",
              "      <th>gender</th>\n",
              "      <th>income_type</th>\n",
              "      <th>debt</th>\n",
              "      <th>total_income</th>\n",
              "      <th>purpose</th>\n",
              "    </tr>\n",
              "  </thead>\n",
              "  <tbody>\n",
              "    <tr>\n",
              "      <td>0</td>\n",
              "      <td>1</td>\n",
              "      <td>8437.673028</td>\n",
              "      <td>42</td>\n",
              "      <td>высшее</td>\n",
              "      <td>0</td>\n",
              "      <td>женат / замужем</td>\n",
              "      <td>0</td>\n",
              "      <td>F</td>\n",
              "      <td>сотрудник</td>\n",
              "      <td>0</td>\n",
              "      <td>253875.639453</td>\n",
              "      <td>покупка жилья</td>\n",
              "    </tr>\n",
              "    <tr>\n",
              "      <td>1</td>\n",
              "      <td>1</td>\n",
              "      <td>4024.803754</td>\n",
              "      <td>36</td>\n",
              "      <td>среднее</td>\n",
              "      <td>1</td>\n",
              "      <td>женат / замужем</td>\n",
              "      <td>0</td>\n",
              "      <td>F</td>\n",
              "      <td>сотрудник</td>\n",
              "      <td>0</td>\n",
              "      <td>112080.014102</td>\n",
              "      <td>приобретение автомобиля</td>\n",
              "    </tr>\n",
              "    <tr>\n",
              "      <td>2</td>\n",
              "      <td>0</td>\n",
              "      <td>5623.422610</td>\n",
              "      <td>33</td>\n",
              "      <td>Среднее</td>\n",
              "      <td>1</td>\n",
              "      <td>женат / замужем</td>\n",
              "      <td>0</td>\n",
              "      <td>M</td>\n",
              "      <td>сотрудник</td>\n",
              "      <td>0</td>\n",
              "      <td>145885.952297</td>\n",
              "      <td>покупка жилья</td>\n",
              "    </tr>\n",
              "    <tr>\n",
              "      <td>3</td>\n",
              "      <td>3</td>\n",
              "      <td>4124.747207</td>\n",
              "      <td>32</td>\n",
              "      <td>среднее</td>\n",
              "      <td>1</td>\n",
              "      <td>женат / замужем</td>\n",
              "      <td>0</td>\n",
              "      <td>M</td>\n",
              "      <td>сотрудник</td>\n",
              "      <td>0</td>\n",
              "      <td>267628.550329</td>\n",
              "      <td>дополнительное образование</td>\n",
              "    </tr>\n",
              "    <tr>\n",
              "      <td>4</td>\n",
              "      <td>0</td>\n",
              "      <td>340266.072047</td>\n",
              "      <td>53</td>\n",
              "      <td>среднее</td>\n",
              "      <td>1</td>\n",
              "      <td>гражданский брак</td>\n",
              "      <td>1</td>\n",
              "      <td>F</td>\n",
              "      <td>пенсионер</td>\n",
              "      <td>0</td>\n",
              "      <td>158616.077870</td>\n",
              "      <td>сыграть свадьбу</td>\n",
              "    </tr>\n",
              "  </tbody>\n",
              "</table>\n",
              "</div>"
            ],
            "text/plain": [
              "   children  days_employed  dob_years education  education_id  \\\n",
              "0         1    8437.673028         42    высшее             0   \n",
              "1         1    4024.803754         36   среднее             1   \n",
              "2         0    5623.422610         33   Среднее             1   \n",
              "3         3    4124.747207         32   среднее             1   \n",
              "4         0  340266.072047         53   среднее             1   \n",
              "\n",
              "      family_status  family_status_id gender income_type  debt   total_income  \\\n",
              "0   женат / замужем                 0      F   сотрудник     0  253875.639453   \n",
              "1   женат / замужем                 0      F   сотрудник     0  112080.014102   \n",
              "2   женат / замужем                 0      M   сотрудник     0  145885.952297   \n",
              "3   женат / замужем                 0      M   сотрудник     0  267628.550329   \n",
              "4  гражданский брак                 1      F   пенсионер     0  158616.077870   \n",
              "\n",
              "                      purpose  \n",
              "0               покупка жилья  \n",
              "1     приобретение автомобиля  \n",
              "2               покупка жилья  \n",
              "3  дополнительное образование  \n",
              "4             сыграть свадьбу  "
            ]
          },
          "metadata": {
            "tags": []
          },
          "execution_count": 6
        }
      ]
    },
    {
      "cell_type": "markdown",
      "metadata": {
        "id": "dUN_VdQkIHJ7"
      },
      "source": [
        "<a id='step_2.1'></a>"
      ]
    },
    {
      "cell_type": "markdown",
      "metadata": {
        "id": "osel9Ro5IHJ8"
      },
      "source": [
        "### Обработка пропусков"
      ]
    },
    {
      "cell_type": "markdown",
      "metadata": {
        "id": "QkxC411GIHJ8"
      },
      "source": [
        "##### ведём подсчёт пропущенных значений по столбцу 'days_employed'"
      ]
    },
    {
      "cell_type": "code",
      "metadata": {
        "id": "mqhALZOtIHJ9",
        "outputId": "cf964045-0c70-4945-cfce-790019ee95f4"
      },
      "source": [
        "data['days_employed'].isnull().sum()"
      ],
      "execution_count": null,
      "outputs": [
        {
          "output_type": "execute_result",
          "data": {
            "text/plain": [
              "2174"
            ]
          },
          "metadata": {
            "tags": []
          },
          "execution_count": 7
        }
      ]
    },
    {
      "cell_type": "code",
      "metadata": {
        "scrolled": false,
        "id": "Oe_c6Y80IHJ9",
        "outputId": "bf6147da-7152-4c8d-9865-e1cea6530c60"
      },
      "source": [
        "data.loc[data['days_employed'].isnull()].head()"
      ],
      "execution_count": null,
      "outputs": [
        {
          "output_type": "execute_result",
          "data": {
            "text/html": [
              "<div>\n",
              "<style scoped>\n",
              "    .dataframe tbody tr th:only-of-type {\n",
              "        vertical-align: middle;\n",
              "    }\n",
              "\n",
              "    .dataframe tbody tr th {\n",
              "        vertical-align: top;\n",
              "    }\n",
              "\n",
              "    .dataframe thead th {\n",
              "        text-align: right;\n",
              "    }\n",
              "</style>\n",
              "<table border=\"1\" class=\"dataframe\">\n",
              "  <thead>\n",
              "    <tr style=\"text-align: right;\">\n",
              "      <th></th>\n",
              "      <th>children</th>\n",
              "      <th>days_employed</th>\n",
              "      <th>dob_years</th>\n",
              "      <th>education</th>\n",
              "      <th>education_id</th>\n",
              "      <th>family_status</th>\n",
              "      <th>family_status_id</th>\n",
              "      <th>gender</th>\n",
              "      <th>income_type</th>\n",
              "      <th>debt</th>\n",
              "      <th>total_income</th>\n",
              "      <th>purpose</th>\n",
              "    </tr>\n",
              "  </thead>\n",
              "  <tbody>\n",
              "    <tr>\n",
              "      <td>12</td>\n",
              "      <td>0</td>\n",
              "      <td>NaN</td>\n",
              "      <td>65</td>\n",
              "      <td>среднее</td>\n",
              "      <td>1</td>\n",
              "      <td>гражданский брак</td>\n",
              "      <td>1</td>\n",
              "      <td>M</td>\n",
              "      <td>пенсионер</td>\n",
              "      <td>0</td>\n",
              "      <td>NaN</td>\n",
              "      <td>сыграть свадьбу</td>\n",
              "    </tr>\n",
              "    <tr>\n",
              "      <td>26</td>\n",
              "      <td>0</td>\n",
              "      <td>NaN</td>\n",
              "      <td>41</td>\n",
              "      <td>среднее</td>\n",
              "      <td>1</td>\n",
              "      <td>женат / замужем</td>\n",
              "      <td>0</td>\n",
              "      <td>M</td>\n",
              "      <td>госслужащий</td>\n",
              "      <td>0</td>\n",
              "      <td>NaN</td>\n",
              "      <td>образование</td>\n",
              "    </tr>\n",
              "    <tr>\n",
              "      <td>29</td>\n",
              "      <td>0</td>\n",
              "      <td>NaN</td>\n",
              "      <td>63</td>\n",
              "      <td>среднее</td>\n",
              "      <td>1</td>\n",
              "      <td>Не женат / не замужем</td>\n",
              "      <td>4</td>\n",
              "      <td>F</td>\n",
              "      <td>пенсионер</td>\n",
              "      <td>0</td>\n",
              "      <td>NaN</td>\n",
              "      <td>строительство жилой недвижимости</td>\n",
              "    </tr>\n",
              "    <tr>\n",
              "      <td>41</td>\n",
              "      <td>0</td>\n",
              "      <td>NaN</td>\n",
              "      <td>50</td>\n",
              "      <td>среднее</td>\n",
              "      <td>1</td>\n",
              "      <td>женат / замужем</td>\n",
              "      <td>0</td>\n",
              "      <td>F</td>\n",
              "      <td>госслужащий</td>\n",
              "      <td>0</td>\n",
              "      <td>NaN</td>\n",
              "      <td>сделка с подержанным автомобилем</td>\n",
              "    </tr>\n",
              "    <tr>\n",
              "      <td>55</td>\n",
              "      <td>0</td>\n",
              "      <td>NaN</td>\n",
              "      <td>54</td>\n",
              "      <td>среднее</td>\n",
              "      <td>1</td>\n",
              "      <td>гражданский брак</td>\n",
              "      <td>1</td>\n",
              "      <td>F</td>\n",
              "      <td>пенсионер</td>\n",
              "      <td>1</td>\n",
              "      <td>NaN</td>\n",
              "      <td>сыграть свадьбу</td>\n",
              "    </tr>\n",
              "  </tbody>\n",
              "</table>\n",
              "</div>"
            ],
            "text/plain": [
              "    children  days_employed  dob_years education  education_id  \\\n",
              "12         0            NaN         65   среднее             1   \n",
              "26         0            NaN         41   среднее             1   \n",
              "29         0            NaN         63   среднее             1   \n",
              "41         0            NaN         50   среднее             1   \n",
              "55         0            NaN         54   среднее             1   \n",
              "\n",
              "            family_status  family_status_id gender  income_type  debt  \\\n",
              "12       гражданский брак                 1      M    пенсионер     0   \n",
              "26        женат / замужем                 0      M  госслужащий     0   \n",
              "29  Не женат / не замужем                 4      F    пенсионер     0   \n",
              "41        женат / замужем                 0      F  госслужащий     0   \n",
              "55       гражданский брак                 1      F    пенсионер     1   \n",
              "\n",
              "    total_income                           purpose  \n",
              "12           NaN                   сыграть свадьбу  \n",
              "26           NaN                       образование  \n",
              "29           NaN  строительство жилой недвижимости  \n",
              "41           NaN  сделка с подержанным автомобилем  \n",
              "55           NaN                   сыграть свадьбу  "
            ]
          },
          "metadata": {
            "tags": []
          },
          "execution_count": 8
        }
      ]
    },
    {
      "cell_type": "markdown",
      "metadata": {
        "id": "xu2Xb61uIHJ-"
      },
      "source": [
        "#### ведём подсчёт пропущенных знчений по столбцу 'total_income'"
      ]
    },
    {
      "cell_type": "code",
      "metadata": {
        "id": "97Cfym_WIHJ-",
        "outputId": "f39df85f-8b3e-443c-ff91-7d59f07c14e9"
      },
      "source": [
        "data['total_income'].isnull().sum()"
      ],
      "execution_count": null,
      "outputs": [
        {
          "output_type": "execute_result",
          "data": {
            "text/plain": [
              "2174"
            ]
          },
          "metadata": {
            "tags": []
          },
          "execution_count": 9
        }
      ]
    },
    {
      "cell_type": "code",
      "metadata": {
        "scrolled": true,
        "id": "vOCVLTVBIHJ_",
        "outputId": "be71f4ad-9ba7-4a1c-eb07-9076a18c541a"
      },
      "source": [
        "data.loc[data['total_income'].isnull()].head() "
      ],
      "execution_count": null,
      "outputs": [
        {
          "output_type": "execute_result",
          "data": {
            "text/html": [
              "<div>\n",
              "<style scoped>\n",
              "    .dataframe tbody tr th:only-of-type {\n",
              "        vertical-align: middle;\n",
              "    }\n",
              "\n",
              "    .dataframe tbody tr th {\n",
              "        vertical-align: top;\n",
              "    }\n",
              "\n",
              "    .dataframe thead th {\n",
              "        text-align: right;\n",
              "    }\n",
              "</style>\n",
              "<table border=\"1\" class=\"dataframe\">\n",
              "  <thead>\n",
              "    <tr style=\"text-align: right;\">\n",
              "      <th></th>\n",
              "      <th>children</th>\n",
              "      <th>days_employed</th>\n",
              "      <th>dob_years</th>\n",
              "      <th>education</th>\n",
              "      <th>education_id</th>\n",
              "      <th>family_status</th>\n",
              "      <th>family_status_id</th>\n",
              "      <th>gender</th>\n",
              "      <th>income_type</th>\n",
              "      <th>debt</th>\n",
              "      <th>total_income</th>\n",
              "      <th>purpose</th>\n",
              "    </tr>\n",
              "  </thead>\n",
              "  <tbody>\n",
              "    <tr>\n",
              "      <td>12</td>\n",
              "      <td>0</td>\n",
              "      <td>NaN</td>\n",
              "      <td>65</td>\n",
              "      <td>среднее</td>\n",
              "      <td>1</td>\n",
              "      <td>гражданский брак</td>\n",
              "      <td>1</td>\n",
              "      <td>M</td>\n",
              "      <td>пенсионер</td>\n",
              "      <td>0</td>\n",
              "      <td>NaN</td>\n",
              "      <td>сыграть свадьбу</td>\n",
              "    </tr>\n",
              "    <tr>\n",
              "      <td>26</td>\n",
              "      <td>0</td>\n",
              "      <td>NaN</td>\n",
              "      <td>41</td>\n",
              "      <td>среднее</td>\n",
              "      <td>1</td>\n",
              "      <td>женат / замужем</td>\n",
              "      <td>0</td>\n",
              "      <td>M</td>\n",
              "      <td>госслужащий</td>\n",
              "      <td>0</td>\n",
              "      <td>NaN</td>\n",
              "      <td>образование</td>\n",
              "    </tr>\n",
              "    <tr>\n",
              "      <td>29</td>\n",
              "      <td>0</td>\n",
              "      <td>NaN</td>\n",
              "      <td>63</td>\n",
              "      <td>среднее</td>\n",
              "      <td>1</td>\n",
              "      <td>Не женат / не замужем</td>\n",
              "      <td>4</td>\n",
              "      <td>F</td>\n",
              "      <td>пенсионер</td>\n",
              "      <td>0</td>\n",
              "      <td>NaN</td>\n",
              "      <td>строительство жилой недвижимости</td>\n",
              "    </tr>\n",
              "    <tr>\n",
              "      <td>41</td>\n",
              "      <td>0</td>\n",
              "      <td>NaN</td>\n",
              "      <td>50</td>\n",
              "      <td>среднее</td>\n",
              "      <td>1</td>\n",
              "      <td>женат / замужем</td>\n",
              "      <td>0</td>\n",
              "      <td>F</td>\n",
              "      <td>госслужащий</td>\n",
              "      <td>0</td>\n",
              "      <td>NaN</td>\n",
              "      <td>сделка с подержанным автомобилем</td>\n",
              "    </tr>\n",
              "    <tr>\n",
              "      <td>55</td>\n",
              "      <td>0</td>\n",
              "      <td>NaN</td>\n",
              "      <td>54</td>\n",
              "      <td>среднее</td>\n",
              "      <td>1</td>\n",
              "      <td>гражданский брак</td>\n",
              "      <td>1</td>\n",
              "      <td>F</td>\n",
              "      <td>пенсионер</td>\n",
              "      <td>1</td>\n",
              "      <td>NaN</td>\n",
              "      <td>сыграть свадьбу</td>\n",
              "    </tr>\n",
              "  </tbody>\n",
              "</table>\n",
              "</div>"
            ],
            "text/plain": [
              "    children  days_employed  dob_years education  education_id  \\\n",
              "12         0            NaN         65   среднее             1   \n",
              "26         0            NaN         41   среднее             1   \n",
              "29         0            NaN         63   среднее             1   \n",
              "41         0            NaN         50   среднее             1   \n",
              "55         0            NaN         54   среднее             1   \n",
              "\n",
              "            family_status  family_status_id gender  income_type  debt  \\\n",
              "12       гражданский брак                 1      M    пенсионер     0   \n",
              "26        женат / замужем                 0      M  госслужащий     0   \n",
              "29  Не женат / не замужем                 4      F    пенсионер     0   \n",
              "41        женат / замужем                 0      F  госслужащий     0   \n",
              "55       гражданский брак                 1      F    пенсионер     1   \n",
              "\n",
              "    total_income                           purpose  \n",
              "12           NaN                   сыграть свадьбу  \n",
              "26           NaN                       образование  \n",
              "29           NaN  строительство жилой недвижимости  \n",
              "41           NaN  сделка с подержанным автомобилем  \n",
              "55           NaN                   сыграть свадьбу  "
            ]
          },
          "metadata": {
            "tags": []
          },
          "execution_count": 10
        }
      ]
    },
    {
      "cell_type": "markdown",
      "metadata": {
        "id": "m2NftzlLIHJ_"
      },
      "source": [
        "<a id ='lin1'></a>"
      ]
    },
    {
      "cell_type": "markdown",
      "metadata": {
        "id": "DrY-Z3k3IHJ_"
      },
      "source": [
        "#### Вывод"
      ]
    },
    {
      "cell_type": "markdown",
      "metadata": {
        "id": "3WXCH6UhIHKA"
      },
      "source": [
        "Пропуски в столбцах 'days_employed' и 'total_income' имеют стандартное значение типа NaN, количество строк совпадает по двум столбцам. Данные пропущены не случайно, либо ошибка в выгрузке данных, либо они неуказаны при заполнении завки. Можно поробовать достать пропущенные значения у разработчиков."
      ]
    },
    {
      "cell_type": "markdown",
      "metadata": {
        "id": "HkEPv39JIHKA"
      },
      "source": [
        "#####  произведём подстановку средних значений в пропущщеные ячейки для сохранения основной чати статистики по остальным показателям"
      ]
    },
    {
      "cell_type": "code",
      "metadata": {
        "id": "d-fZSNv9IHKA",
        "outputId": "87124f99-60f0-4e34-c4ae-2fe087c96a94"
      },
      "source": [
        "data[['days_employed','total_income']].mean()"
      ],
      "execution_count": null,
      "outputs": [
        {
          "output_type": "execute_result",
          "data": {
            "text/plain": [
              "days_employed     63046.497661\n",
              "total_income     167422.302208\n",
              "dtype: float64"
            ]
          },
          "metadata": {
            "tags": []
          },
          "execution_count": 6
        }
      ]
    },
    {
      "cell_type": "code",
      "metadata": {
        "scrolled": false,
        "id": "LQSYiBqzIHKB"
      },
      "source": [
        "# производим заполенение пропущенных занчений методом fillna с подстановкой среднего значения.\n",
        "data['days_employed'] = data['days_employed'].fillna(data[['days_employed','total_income']].mean()[0])\n",
        "data['total_income'] = data['total_income'].fillna(data[['days_employed','total_income']].mean()[1])"
      ],
      "execution_count": null,
      "outputs": []
    },
    {
      "cell_type": "markdown",
      "metadata": {
        "id": "5qmYc3VnIHKB"
      },
      "source": [
        "##### проверяем результат"
      ]
    },
    {
      "cell_type": "code",
      "metadata": {
        "scrolled": true,
        "id": "YNJWmQAqIHKB",
        "outputId": "02f9be4c-4823-4c26-d570-91eec3ffd826"
      },
      "source": [
        "data.info()"
      ],
      "execution_count": null,
      "outputs": [
        {
          "output_type": "stream",
          "text": [
            "<class 'pandas.core.frame.DataFrame'>\n",
            "RangeIndex: 21525 entries, 0 to 21524\n",
            "Data columns (total 12 columns):\n",
            " #   Column            Non-Null Count  Dtype  \n",
            "---  ------            --------------  -----  \n",
            " 0   children          21525 non-null  int64  \n",
            " 1   days_employed     21525 non-null  float64\n",
            " 2   dob_years         21525 non-null  int64  \n",
            " 3   education         21525 non-null  object \n",
            " 4   education_id      21525 non-null  int64  \n",
            " 5   family_status     21525 non-null  object \n",
            " 6   family_status_id  21525 non-null  int64  \n",
            " 7   gender            21525 non-null  object \n",
            " 8   income_type       21525 non-null  object \n",
            " 9   debt              21525 non-null  int64  \n",
            " 10  total_income      21525 non-null  float64\n",
            " 11  purpose           21525 non-null  object \n",
            "dtypes: float64(2), int64(5), object(5)\n",
            "memory usage: 2.0+ MB\n"
          ],
          "name": "stdout"
        }
      ]
    },
    {
      "cell_type": "markdown",
      "metadata": {
        "id": "3Mkp5su1IHKC"
      },
      "source": [
        "#### Вывод"
      ]
    },
    {
      "cell_type": "markdown",
      "metadata": {
        "id": "_9BdpLuyIHKC"
      },
      "source": [
        "Отлично, все пропуски заполнены, можно дальше работать с данными. Пропуски заполнены методом fillna(), как наиболее подходящим при заполнении отсутствующих значений типа NaN."
      ]
    },
    {
      "cell_type": "markdown",
      "metadata": {
        "id": "H5jPyMvBIHKC"
      },
      "source": [
        "<a id = 'step_2.2'></a>"
      ]
    },
    {
      "cell_type": "markdown",
      "metadata": {
        "id": "-iN9lBm0IHKC"
      },
      "source": [
        "### Замена типа данных"
      ]
    },
    {
      "cell_type": "markdown",
      "metadata": {
        "id": "CyZ8-UI2IHKD"
      },
      "source": [
        "##### Приводим данные столбцов 'days_employed', 'total_income' к целым значениям, изменением типа данных на целочисленный, т.к. нет необходимости в такой точности дохода и количеств рабочих дней"
      ]
    },
    {
      "cell_type": "code",
      "metadata": {
        "scrolled": true,
        "id": "62pbJE0fIHKD",
        "outputId": "2cc1c0c1-aaac-4c47-e1e5-cd5728ce7478"
      },
      "source": [
        "data[['days_employed','total_income']] = data[['days_employed','total_income']].astype('int') \n",
        "data.head() # проверяем результат"
      ],
      "execution_count": null,
      "outputs": [
        {
          "output_type": "execute_result",
          "data": {
            "text/html": [
              "<div>\n",
              "<style scoped>\n",
              "    .dataframe tbody tr th:only-of-type {\n",
              "        vertical-align: middle;\n",
              "    }\n",
              "\n",
              "    .dataframe tbody tr th {\n",
              "        vertical-align: top;\n",
              "    }\n",
              "\n",
              "    .dataframe thead th {\n",
              "        text-align: right;\n",
              "    }\n",
              "</style>\n",
              "<table border=\"1\" class=\"dataframe\">\n",
              "  <thead>\n",
              "    <tr style=\"text-align: right;\">\n",
              "      <th></th>\n",
              "      <th>children</th>\n",
              "      <th>days_employed</th>\n",
              "      <th>dob_years</th>\n",
              "      <th>education</th>\n",
              "      <th>education_id</th>\n",
              "      <th>family_status</th>\n",
              "      <th>family_status_id</th>\n",
              "      <th>gender</th>\n",
              "      <th>income_type</th>\n",
              "      <th>debt</th>\n",
              "      <th>total_income</th>\n",
              "      <th>purpose</th>\n",
              "    </tr>\n",
              "  </thead>\n",
              "  <tbody>\n",
              "    <tr>\n",
              "      <th>0</th>\n",
              "      <td>1</td>\n",
              "      <td>-8437</td>\n",
              "      <td>42</td>\n",
              "      <td>высшее</td>\n",
              "      <td>0</td>\n",
              "      <td>женат / замужем</td>\n",
              "      <td>0</td>\n",
              "      <td>F</td>\n",
              "      <td>сотрудник</td>\n",
              "      <td>0</td>\n",
              "      <td>253875</td>\n",
              "      <td>покупка жилья</td>\n",
              "    </tr>\n",
              "    <tr>\n",
              "      <th>1</th>\n",
              "      <td>1</td>\n",
              "      <td>-4024</td>\n",
              "      <td>36</td>\n",
              "      <td>среднее</td>\n",
              "      <td>1</td>\n",
              "      <td>женат / замужем</td>\n",
              "      <td>0</td>\n",
              "      <td>F</td>\n",
              "      <td>сотрудник</td>\n",
              "      <td>0</td>\n",
              "      <td>112080</td>\n",
              "      <td>приобретение автомобиля</td>\n",
              "    </tr>\n",
              "    <tr>\n",
              "      <th>2</th>\n",
              "      <td>0</td>\n",
              "      <td>-5623</td>\n",
              "      <td>33</td>\n",
              "      <td>Среднее</td>\n",
              "      <td>1</td>\n",
              "      <td>женат / замужем</td>\n",
              "      <td>0</td>\n",
              "      <td>M</td>\n",
              "      <td>сотрудник</td>\n",
              "      <td>0</td>\n",
              "      <td>145885</td>\n",
              "      <td>покупка жилья</td>\n",
              "    </tr>\n",
              "    <tr>\n",
              "      <th>3</th>\n",
              "      <td>3</td>\n",
              "      <td>-4124</td>\n",
              "      <td>32</td>\n",
              "      <td>среднее</td>\n",
              "      <td>1</td>\n",
              "      <td>женат / замужем</td>\n",
              "      <td>0</td>\n",
              "      <td>M</td>\n",
              "      <td>сотрудник</td>\n",
              "      <td>0</td>\n",
              "      <td>267628</td>\n",
              "      <td>дополнительное образование</td>\n",
              "    </tr>\n",
              "    <tr>\n",
              "      <th>4</th>\n",
              "      <td>0</td>\n",
              "      <td>340266</td>\n",
              "      <td>53</td>\n",
              "      <td>среднее</td>\n",
              "      <td>1</td>\n",
              "      <td>гражданский брак</td>\n",
              "      <td>1</td>\n",
              "      <td>F</td>\n",
              "      <td>пенсионер</td>\n",
              "      <td>0</td>\n",
              "      <td>158616</td>\n",
              "      <td>сыграть свадьбу</td>\n",
              "    </tr>\n",
              "  </tbody>\n",
              "</table>\n",
              "</div>"
            ],
            "text/plain": [
              "   children  days_employed  dob_years education  education_id  \\\n",
              "0         1          -8437         42    высшее             0   \n",
              "1         1          -4024         36   среднее             1   \n",
              "2         0          -5623         33   Среднее             1   \n",
              "3         3          -4124         32   среднее             1   \n",
              "4         0         340266         53   среднее             1   \n",
              "\n",
              "      family_status  family_status_id gender income_type  debt  total_income  \\\n",
              "0   женат / замужем                 0      F   сотрудник     0        253875   \n",
              "1   женат / замужем                 0      F   сотрудник     0        112080   \n",
              "2   женат / замужем                 0      M   сотрудник     0        145885   \n",
              "3   женат / замужем                 0      M   сотрудник     0        267628   \n",
              "4  гражданский брак                 1      F   пенсионер     0        158616   \n",
              "\n",
              "                      purpose  \n",
              "0               покупка жилья  \n",
              "1     приобретение автомобиля  \n",
              "2               покупка жилья  \n",
              "3  дополнительное образование  \n",
              "4             сыграть свадьбу  "
            ]
          },
          "metadata": {
            "tags": []
          },
          "execution_count": 15
        }
      ]
    },
    {
      "cell_type": "markdown",
      "metadata": {
        "id": "75vny0GEIHKD"
      },
      "source": [
        "#### Вывод"
      ]
    },
    {
      "cell_type": "markdown",
      "metadata": {
        "id": "WyALnReXIHKE"
      },
      "source": [
        "При подсчёте количества дней или дохода клиентов логичнее сразу приводить выгрузку в целочисленный вормат вывода данных, т.к. дробные значения только мешают при обработке данных."
      ]
    },
    {
      "cell_type": "markdown",
      "metadata": {
        "id": "56AUVAlLIHKE"
      },
      "source": [
        "<a id='step_2.3'></a>"
      ]
    },
    {
      "cell_type": "markdown",
      "metadata": {
        "id": "HKGhSR6AIHKE"
      },
      "source": [
        "### Проверка корректности числовых значений в таблице"
      ]
    },
    {
      "cell_type": "markdown",
      "metadata": {
        "id": "MywwO5xOIHKE"
      },
      "source": [
        "##### проверим корректность данных в столбцах с числовыми значениями выводом граничных значений"
      ]
    },
    {
      "cell_type": "code",
      "metadata": {
        "scrolled": true,
        "id": "WTPsYWqVIHKF",
        "outputId": "698a9ca8-5999-4469-8fd8-011d52f18285"
      },
      "source": [
        "data.agg({'children':['min','max'],'days_employed':['min','max'],'dob_years':['min','max'],'family_status_id':['min','max'],'total_income':['min','max']})"
      ],
      "execution_count": null,
      "outputs": [
        {
          "output_type": "execute_result",
          "data": {
            "text/html": [
              "<div>\n",
              "<style scoped>\n",
              "    .dataframe tbody tr th:only-of-type {\n",
              "        vertical-align: middle;\n",
              "    }\n",
              "\n",
              "    .dataframe tbody tr th {\n",
              "        vertical-align: top;\n",
              "    }\n",
              "\n",
              "    .dataframe thead th {\n",
              "        text-align: right;\n",
              "    }\n",
              "</style>\n",
              "<table border=\"1\" class=\"dataframe\">\n",
              "  <thead>\n",
              "    <tr style=\"text-align: right;\">\n",
              "      <th></th>\n",
              "      <th>children</th>\n",
              "      <th>days_employed</th>\n",
              "      <th>dob_years</th>\n",
              "      <th>family_status_id</th>\n",
              "      <th>total_income</th>\n",
              "    </tr>\n",
              "  </thead>\n",
              "  <tbody>\n",
              "    <tr>\n",
              "      <th>min</th>\n",
              "      <td>-1</td>\n",
              "      <td>-18388</td>\n",
              "      <td>0</td>\n",
              "      <td>0</td>\n",
              "      <td>20667</td>\n",
              "    </tr>\n",
              "    <tr>\n",
              "      <th>max</th>\n",
              "      <td>20</td>\n",
              "      <td>401755</td>\n",
              "      <td>75</td>\n",
              "      <td>4</td>\n",
              "      <td>2265604</td>\n",
              "    </tr>\n",
              "  </tbody>\n",
              "</table>\n",
              "</div>"
            ],
            "text/plain": [
              "     children  days_employed  dob_years  family_status_id  total_income\n",
              "min        -1         -18388          0                 0         20667\n",
              "max        20         401755         75                 4       2265604"
            ]
          },
          "metadata": {
            "tags": []
          },
          "execution_count": 16
        }
      ]
    },
    {
      "cell_type": "markdown",
      "metadata": {
        "id": "X8waHiOhIHKF"
      },
      "source": [
        "#### Вывод"
      ]
    },
    {
      "cell_type": "markdown",
      "metadata": {
        "id": "JeeLxL87IHKF"
      },
      "source": [
        "Как можно легко заметить в нашей таблице есть множество значений не отражающих действительности, требуется откорректировать их вручную по каждому столбцу по отдельности"
      ]
    },
    {
      "cell_type": "markdown",
      "metadata": {
        "id": "QT4d0oYhIHKF"
      },
      "source": [
        "<a id='step_2.4.1'></a>"
      ]
    },
    {
      "cell_type": "markdown",
      "metadata": {
        "id": "-Hepp7QjIHKG"
      },
      "source": [
        "#### Обработаем некорректные данные в столбце 'children'"
      ]
    },
    {
      "cell_type": "code",
      "metadata": {
        "scrolled": false,
        "id": "n1NxdUQWIHKG",
        "outputId": "5a423d3d-6058-45d8-e2e9-c21f28e29dd5"
      },
      "source": [
        "data['children'].value_counts()"
      ],
      "execution_count": null,
      "outputs": [
        {
          "output_type": "execute_result",
          "data": {
            "text/plain": [
              " 0     14149\n",
              " 1      4818\n",
              " 2      2055\n",
              " 3       330\n",
              " 20       76\n",
              "-1        47\n",
              " 4        41\n",
              " 5         9\n",
              "Name: children, dtype: int64"
            ]
          },
          "metadata": {
            "tags": []
          },
          "execution_count": 17
        }
      ]
    },
    {
      "cell_type": "markdown",
      "metadata": {
        "id": "Y3biaqZvIHKG"
      },
      "source": [
        "##### изменяем тип данных для корректировки отрицательного значения "
      ]
    },
    {
      "cell_type": "code",
      "metadata": {
        "id": "jhe-N9wFIHKH"
      },
      "source": [
        "data['children'] = data['children'].astype('str')  \n",
        "data['children'] = data['children'].replace('-','', regex=True).astype('float') # удаляем знак '-' и возвращаем тип данных в числовой\n"
      ],
      "execution_count": null,
      "outputs": []
    },
    {
      "cell_type": "markdown",
      "metadata": {
        "id": "nk18Io0GIHKH"
      },
      "source": [
        "##### удаляем строки с неверными данными столбца 'children' из таблицы, т.к. эти данные некорректны и портят статистику"
      ]
    },
    {
      "cell_type": "code",
      "metadata": {
        "id": "1o1u3qduIHKI"
      },
      "source": [
        "data = data[data.children  !=20] "
      ],
      "execution_count": null,
      "outputs": []
    },
    {
      "cell_type": "code",
      "metadata": {
        "id": "rQQN6LdfIHKI",
        "outputId": "9595052e-4ced-4405-93bc-456deeb42ea0"
      },
      "source": [
        "data['children'] = data['children'].astype('int') # изменяем тип данных на целочисленный\n",
        "data['children'].min() # проверяем минимальное колчество детей столбца 'children'."
      ],
      "execution_count": null,
      "outputs": [
        {
          "output_type": "execute_result",
          "data": {
            "text/plain": [
              "0"
            ]
          },
          "metadata": {
            "tags": []
          },
          "execution_count": 20
        }
      ]
    },
    {
      "cell_type": "markdown",
      "metadata": {
        "id": "pw9NTbfaIHKJ"
      },
      "source": [
        "#### Вывод"
      ]
    },
    {
      "cell_type": "markdown",
      "metadata": {
        "id": "0AZ9gkhzIHKJ"
      },
      "source": [
        "При детальном просмотре табличных данных, видно, что данные со знаком \"-\" в количестве 76 шт, в попали в таблицу при автоматической выгрузке, и их мы привели к правильному значению, убрав знак \"-\", но со сначением в \"20\" детей однозначно сказать не возможно, по-этому эти значения из таблицы мы удалим как незначительную погрешность в масштабах всей таблицы, дабы не навредить статистике."
      ]
    },
    {
      "cell_type": "markdown",
      "metadata": {
        "id": "uq4uiZdXIHKK"
      },
      "source": [
        "<a id='step_2.4.2'></a>"
      ]
    },
    {
      "cell_type": "markdown",
      "metadata": {
        "id": "t0et64VtIHKK"
      },
      "source": [
        "#### Обработаем некорректные данные в столбце 'days_employed'"
      ]
    },
    {
      "cell_type": "code",
      "metadata": {
        "scrolled": true,
        "id": "zYM_0MaGIHKL",
        "outputId": "4a393986-04cf-46e9-f410-614dfc960873"
      },
      "source": [
        "value_error = data['days_employed'].loc[data['days_employed'] > 23725].count()\n",
        "value_error # выбираем максимальный рабочий стаж в 65 лет и производим подсчёт"
      ],
      "execution_count": null,
      "outputs": [
        {
          "output_type": "execute_result",
          "data": {
            "text/plain": [
              "5603"
            ]
          },
          "metadata": {
            "tags": []
          },
          "execution_count": 21
        }
      ]
    },
    {
      "cell_type": "code",
      "metadata": {
        "id": "Pgz95LvIIHKM",
        "outputId": "d7285722-a03c-485b-a849-e8f72e47936d"
      },
      "source": [
        "print('Процент ошибочных данных составляет: {:.0%}'.format(value_error/len(data['days_employed'])))"
      ],
      "execution_count": null,
      "outputs": [
        {
          "output_type": "stream",
          "text": [
            "Процент ошибочных данных составляет: 26%\n"
          ],
          "name": "stdout"
        }
      ]
    },
    {
      "cell_type": "code",
      "metadata": {
        "id": "hUIdbc_ZIHKN",
        "outputId": "cd2690d7-dbaa-4140-fe90-a54cdda9e064"
      },
      "source": [
        "data['days_employed'].loc[data['days_employed'] < 23725].mean() # вычислим среднее значение отработанных дней из всего списка удовлетворяющего условию трудового стажа менее 65 лет"
      ],
      "execution_count": null,
      "outputs": [
        {
          "output_type": "execute_result",
          "data": {
            "text/plain": [
              "-2353.2995708696203"
            ]
          },
          "metadata": {
            "tags": []
          },
          "execution_count": 23
        }
      ]
    },
    {
      "cell_type": "code",
      "metadata": {
        "id": "je_1-xUsIHKO"
      },
      "source": [
        "data_m = data.copy()"
      ],
      "execution_count": null,
      "outputs": []
    },
    {
      "cell_type": "code",
      "metadata": {
        "scrolled": false,
        "id": "Vuen_uhoIHKP",
        "outputId": "bd73040a-8fbb-4969-c693-881fa3b692ee"
      },
      "source": [
        "data_m.loc[data_m['days_employed'] > 23725, 'days_employed'] = 2069 # производим замену неверно указанных значений трудового стажа средним значением, для сохранения статистики по другим показателям\n",
        "data_m.head()"
      ],
      "execution_count": null,
      "outputs": [
        {
          "output_type": "execute_result",
          "data": {
            "text/html": [
              "<div>\n",
              "<style scoped>\n",
              "    .dataframe tbody tr th:only-of-type {\n",
              "        vertical-align: middle;\n",
              "    }\n",
              "\n",
              "    .dataframe tbody tr th {\n",
              "        vertical-align: top;\n",
              "    }\n",
              "\n",
              "    .dataframe thead th {\n",
              "        text-align: right;\n",
              "    }\n",
              "</style>\n",
              "<table border=\"1\" class=\"dataframe\">\n",
              "  <thead>\n",
              "    <tr style=\"text-align: right;\">\n",
              "      <th></th>\n",
              "      <th>children</th>\n",
              "      <th>days_employed</th>\n",
              "      <th>dob_years</th>\n",
              "      <th>education</th>\n",
              "      <th>education_id</th>\n",
              "      <th>family_status</th>\n",
              "      <th>family_status_id</th>\n",
              "      <th>gender</th>\n",
              "      <th>income_type</th>\n",
              "      <th>debt</th>\n",
              "      <th>total_income</th>\n",
              "      <th>purpose</th>\n",
              "    </tr>\n",
              "  </thead>\n",
              "  <tbody>\n",
              "    <tr>\n",
              "      <th>0</th>\n",
              "      <td>1</td>\n",
              "      <td>-8437</td>\n",
              "      <td>42</td>\n",
              "      <td>высшее</td>\n",
              "      <td>0</td>\n",
              "      <td>женат / замужем</td>\n",
              "      <td>0</td>\n",
              "      <td>F</td>\n",
              "      <td>сотрудник</td>\n",
              "      <td>0</td>\n",
              "      <td>253875</td>\n",
              "      <td>покупка жилья</td>\n",
              "    </tr>\n",
              "    <tr>\n",
              "      <th>1</th>\n",
              "      <td>1</td>\n",
              "      <td>-4024</td>\n",
              "      <td>36</td>\n",
              "      <td>среднее</td>\n",
              "      <td>1</td>\n",
              "      <td>женат / замужем</td>\n",
              "      <td>0</td>\n",
              "      <td>F</td>\n",
              "      <td>сотрудник</td>\n",
              "      <td>0</td>\n",
              "      <td>112080</td>\n",
              "      <td>приобретение автомобиля</td>\n",
              "    </tr>\n",
              "    <tr>\n",
              "      <th>2</th>\n",
              "      <td>0</td>\n",
              "      <td>-5623</td>\n",
              "      <td>33</td>\n",
              "      <td>Среднее</td>\n",
              "      <td>1</td>\n",
              "      <td>женат / замужем</td>\n",
              "      <td>0</td>\n",
              "      <td>M</td>\n",
              "      <td>сотрудник</td>\n",
              "      <td>0</td>\n",
              "      <td>145885</td>\n",
              "      <td>покупка жилья</td>\n",
              "    </tr>\n",
              "    <tr>\n",
              "      <th>3</th>\n",
              "      <td>3</td>\n",
              "      <td>-4124</td>\n",
              "      <td>32</td>\n",
              "      <td>среднее</td>\n",
              "      <td>1</td>\n",
              "      <td>женат / замужем</td>\n",
              "      <td>0</td>\n",
              "      <td>M</td>\n",
              "      <td>сотрудник</td>\n",
              "      <td>0</td>\n",
              "      <td>267628</td>\n",
              "      <td>дополнительное образование</td>\n",
              "    </tr>\n",
              "    <tr>\n",
              "      <th>4</th>\n",
              "      <td>0</td>\n",
              "      <td>2069</td>\n",
              "      <td>53</td>\n",
              "      <td>среднее</td>\n",
              "      <td>1</td>\n",
              "      <td>гражданский брак</td>\n",
              "      <td>1</td>\n",
              "      <td>F</td>\n",
              "      <td>пенсионер</td>\n",
              "      <td>0</td>\n",
              "      <td>158616</td>\n",
              "      <td>сыграть свадьбу</td>\n",
              "    </tr>\n",
              "  </tbody>\n",
              "</table>\n",
              "</div>"
            ],
            "text/plain": [
              "   children  days_employed  dob_years education  education_id  \\\n",
              "0         1          -8437         42    высшее             0   \n",
              "1         1          -4024         36   среднее             1   \n",
              "2         0          -5623         33   Среднее             1   \n",
              "3         3          -4124         32   среднее             1   \n",
              "4         0           2069         53   среднее             1   \n",
              "\n",
              "      family_status  family_status_id gender income_type  debt  total_income  \\\n",
              "0   женат / замужем                 0      F   сотрудник     0        253875   \n",
              "1   женат / замужем                 0      F   сотрудник     0        112080   \n",
              "2   женат / замужем                 0      M   сотрудник     0        145885   \n",
              "3   женат / замужем                 0      M   сотрудник     0        267628   \n",
              "4  гражданский брак                 1      F   пенсионер     0        158616   \n",
              "\n",
              "                      purpose  \n",
              "0               покупка жилья  \n",
              "1     приобретение автомобиля  \n",
              "2               покупка жилья  \n",
              "3  дополнительное образование  \n",
              "4             сыграть свадьбу  "
            ]
          },
          "metadata": {
            "tags": []
          },
          "execution_count": 25
        }
      ]
    },
    {
      "cell_type": "markdown",
      "metadata": {
        "id": "xa3BKmrRIHKP"
      },
      "source": [
        "#### Вывод"
      ]
    },
    {
      "cell_type": "markdown",
      "metadata": {
        "id": "X1YlQEdzIHKQ"
      },
      "source": [
        "Отлично, данные о количестве отработанных дней привели к среднему значению, т.к. коэффициент ошибочных значений в этом разделе был очень велик и удаление этих данных повлекло бы вывод неверных занчений в итоговом заключении. Обязательно требуется сообщить разработчикам/аналитикам по сбору даных об этом моменте, т.к. выгрузка некорректных данных имеет довольно большой процент от основной таблицы."
      ]
    },
    {
      "cell_type": "markdown",
      "metadata": {
        "id": "NzjHXzeZIHKQ"
      },
      "source": [
        "<a id='step_2.4.3'></a>"
      ]
    },
    {
      "cell_type": "markdown",
      "metadata": {
        "id": "hcWgqmgDIHKQ"
      },
      "source": [
        "#### Обработаем некорректные данные в столбце 'dob_years'"
      ]
    },
    {
      "cell_type": "markdown",
      "metadata": {
        "id": "lTRXSdnWIHKR"
      },
      "source": [
        "##### просмотрим среднее значение по столбцу 'dob_years'"
      ]
    },
    {
      "cell_type": "code",
      "metadata": {
        "id": "rsEW3e3zIHKR",
        "outputId": "95c697c7-637e-47dc-931f-44f1ab0a3666"
      },
      "source": [
        "data_m[data_m['dob_years'] == 0].count()"
      ],
      "execution_count": null,
      "outputs": [
        {
          "output_type": "execute_result",
          "data": {
            "text/plain": [
              "children            100\n",
              "days_employed       100\n",
              "dob_years           100\n",
              "education           100\n",
              "education_id        100\n",
              "family_status       100\n",
              "family_status_id    100\n",
              "gender              100\n",
              "income_type         100\n",
              "debt                100\n",
              "total_income        100\n",
              "purpose             100\n",
              "dtype: int64"
            ]
          },
          "metadata": {
            "tags": []
          },
          "execution_count": 26
        }
      ]
    },
    {
      "cell_type": "code",
      "metadata": {
        "scrolled": false,
        "id": "EMdFaLy2IHKR",
        "outputId": "19d2dbc6-f694-4da8-9ec8-e023abda0f29"
      },
      "source": [
        "data_m[data_m['dob_years'] != 0].mean()"
      ],
      "execution_count": null,
      "outputs": [
        {
          "output_type": "execute_result",
          "data": {
            "text/plain": [
              "children                 0.474308\n",
              "days_employed        -1198.792075\n",
              "dob_years               43.501429\n",
              "education_id             0.817837\n",
              "family_status_id         0.971802\n",
              "debt                     0.080800\n",
              "total_income        167457.983325\n",
              "dtype: float64"
            ]
          },
          "metadata": {
            "tags": []
          },
          "execution_count": 27
        }
      ]
    },
    {
      "cell_type": "code",
      "metadata": {
        "id": "35Km8AaOIHKS",
        "outputId": "90348354-2b92-46e6-c3b4-9b992ecffd55"
      },
      "source": [
        "dob_mean=round(data_m['dob_years'].mean())\n",
        "dob_mean"
      ],
      "execution_count": null,
      "outputs": [
        {
          "output_type": "execute_result",
          "data": {
            "text/plain": [
              "43"
            ]
          },
          "metadata": {
            "tags": []
          },
          "execution_count": 33
        }
      ]
    },
    {
      "cell_type": "markdown",
      "metadata": {
        "id": "AwkdCsS3IHKS"
      },
      "source": [
        "##### заменим нулевые значения в столбце 'dob_years' средним значением, для сохранения остальных данных таблицы"
      ]
    },
    {
      "cell_type": "code",
      "metadata": {
        "id": "w7nJX2uMIHKS"
      },
      "source": [
        "data_m.loc[data_m['dob_years'] == 0, 'dob_years'] = dob_mean"
      ],
      "execution_count": null,
      "outputs": []
    },
    {
      "cell_type": "markdown",
      "metadata": {
        "id": "7UVJ8IoJIHKT"
      },
      "source": [
        "##### проверим результат"
      ]
    },
    {
      "cell_type": "code",
      "metadata": {
        "id": "GWS4boagIHKT",
        "outputId": "6cb0ea54-3482-46c4-9a57-e779ab99371a"
      },
      "source": [
        "data_m[data_m['dob_years'] == 0]"
      ],
      "execution_count": null,
      "outputs": [
        {
          "output_type": "execute_result",
          "data": {
            "text/html": [
              "<div>\n",
              "<style scoped>\n",
              "    .dataframe tbody tr th:only-of-type {\n",
              "        vertical-align: middle;\n",
              "    }\n",
              "\n",
              "    .dataframe tbody tr th {\n",
              "        vertical-align: top;\n",
              "    }\n",
              "\n",
              "    .dataframe thead th {\n",
              "        text-align: right;\n",
              "    }\n",
              "</style>\n",
              "<table border=\"1\" class=\"dataframe\">\n",
              "  <thead>\n",
              "    <tr style=\"text-align: right;\">\n",
              "      <th></th>\n",
              "      <th>children</th>\n",
              "      <th>days_employed</th>\n",
              "      <th>dob_years</th>\n",
              "      <th>education</th>\n",
              "      <th>education_id</th>\n",
              "      <th>family_status</th>\n",
              "      <th>family_status_id</th>\n",
              "      <th>gender</th>\n",
              "      <th>income_type</th>\n",
              "      <th>debt</th>\n",
              "      <th>total_income</th>\n",
              "      <th>purpose</th>\n",
              "    </tr>\n",
              "  </thead>\n",
              "  <tbody>\n",
              "  </tbody>\n",
              "</table>\n",
              "</div>"
            ],
            "text/plain": [
              "Empty DataFrame\n",
              "Columns: [children, days_employed, dob_years, education, education_id, family_status, family_status_id, gender, income_type, debt, total_income, purpose]\n",
              "Index: []"
            ]
          },
          "metadata": {
            "tags": []
          },
          "execution_count": 35
        }
      ]
    },
    {
      "cell_type": "markdown",
      "metadata": {
        "id": "UH3GNx_zIHKT"
      },
      "source": [
        "#### Вывод"
      ]
    },
    {
      "cell_type": "markdown",
      "metadata": {
        "id": "yL5aIuw_IHKT"
      },
      "source": [
        "Данные по выгрузке количества лет заёмщиков так же были выгружены некорректно, т.к. заёмщиков с возрастом в \"0\" лет не должно быть в системе. Считаю правильным предложить внести в программу фильтр-барьер при заполненнии завки, чтобы завка на кредит не предоставлялась без соблюдения требований заполнения количества лет, если эти данные были просто пропущены при заполнении заявки, либо проверить выгрузку данных в аналитическую программу."
      ]
    },
    {
      "cell_type": "markdown",
      "metadata": {
        "id": "UO3ZeNG5IHKU"
      },
      "source": [
        "<a id='step_2.4'></a>"
      ]
    },
    {
      "cell_type": "markdown",
      "metadata": {
        "id": "jR02Z1OCIHKU"
      },
      "source": [
        "### Вывод"
      ]
    },
    {
      "cell_type": "code",
      "metadata": {
        "id": "sEBPr3XiIHKU",
        "outputId": "8d683a99-4136-4b3f-cf17-71f0bd6709c2"
      },
      "source": [
        "len(data_m)"
      ],
      "execution_count": null,
      "outputs": [
        {
          "output_type": "execute_result",
          "data": {
            "text/plain": [
              "21449"
            ]
          },
          "metadata": {
            "tags": []
          },
          "execution_count": 29
        }
      ]
    },
    {
      "cell_type": "code",
      "metadata": {
        "id": "IdD2TRMPIHKU",
        "outputId": "9e78bd1b-69c5-453c-fb9a-7e05d2f5b2ac"
      },
      "source": [
        "perc_lost_val = len(data_m)/21525\n",
        "perc_lost_val\n",
        "print('Процент оставшихся данных после обработки значений: {:.1%}'. format(perc_lost_val) )"
      ],
      "execution_count": null,
      "outputs": [
        {
          "output_type": "stream",
          "text": [
            "Процент оставшихся данных после обработки значений: 99.6%\n"
          ],
          "name": "stdout"
        }
      ]
    },
    {
      "cell_type": "markdown",
      "metadata": {
        "id": "q2F-qmg4IHKV"
      },
      "source": [
        "Проведя работу по очистке данных от такого количества \"мусора\" с точностью можно сказать, что надо работать над предоставлением корректной выгрузки из программы с актуальными данными, т.к. после корректировок и усреднения значений, для сохранения остальной статистики данных, итоговая статистика по усреднённым данным может отличаться от реальности."
      ]
    },
    {
      "cell_type": "markdown",
      "metadata": {
        "id": "CQNj3-G2IHKV"
      },
      "source": [
        "<a id='step_2.5'></a>\n",
        "<a href='#start'>Вернуться к оглавлению</a>"
      ]
    },
    {
      "cell_type": "markdown",
      "metadata": {
        "id": "mK09cAguIHKV"
      },
      "source": [
        "### Обработка дубликатов"
      ]
    },
    {
      "cell_type": "markdown",
      "metadata": {
        "id": "m8YCOg8PIHKV"
      },
      "source": [
        "<a id='step_2.5.1'></a>"
      ]
    },
    {
      "cell_type": "markdown",
      "metadata": {
        "id": "4ajrrKbFIHKW"
      },
      "source": [
        "#### Просмотрим уникальные значения в столбце 'education'"
      ]
    },
    {
      "cell_type": "code",
      "metadata": {
        "id": "HX3YNXLSIHKW",
        "outputId": "dba27911-5f25-41ee-ad45-fdf9b4520f8b"
      },
      "source": [
        "data_m['education'].duplicated().sum()"
      ],
      "execution_count": null,
      "outputs": [
        {
          "output_type": "execute_result",
          "data": {
            "text/plain": [
              "21434"
            ]
          },
          "metadata": {
            "tags": []
          },
          "execution_count": 31
        }
      ]
    },
    {
      "cell_type": "code",
      "metadata": {
        "id": "UBImp8afIHKW",
        "outputId": "6f2aacbe-1f6d-4a08-c3e9-2d51da622b33"
      },
      "source": [
        "print(data_m['education'].unique()) "
      ],
      "execution_count": null,
      "outputs": [
        {
          "output_type": "stream",
          "text": [
            "['высшее' 'среднее' 'Среднее' 'СРЕДНЕЕ' 'ВЫСШЕЕ' 'неоконченное высшее'\n",
            " 'начальное' 'Высшее' 'НЕОКОНЧЕННОЕ ВЫСШЕЕ' 'Неоконченное высшее'\n",
            " 'НАЧАЛЬНОЕ' 'Начальное' 'Ученая степень' 'УЧЕНАЯ СТЕПЕНЬ'\n",
            " 'ученая степень']\n"
          ],
          "name": "stdout"
        }
      ]
    },
    {
      "cell_type": "markdown",
      "metadata": {
        "id": "kJKJOV3JIHKX"
      },
      "source": [
        "##### приведём все значения столбца 'education' в нижний регистр "
      ]
    },
    {
      "cell_type": "code",
      "metadata": {
        "id": "1Zqq2nGaIHKX",
        "outputId": "1efbbc49-cc5a-44ab-edf3-cde73e3ac92d"
      },
      "source": [
        "data_m['education'] = data_m['education'].str.lower()\n",
        "print(data_m['education'].unique()) # проверяем результат"
      ],
      "execution_count": null,
      "outputs": [
        {
          "output_type": "stream",
          "text": [
            "['высшее' 'среднее' 'неоконченное высшее' 'начальное' 'ученая степень']\n"
          ],
          "name": "stdout"
        }
      ]
    },
    {
      "cell_type": "markdown",
      "metadata": {
        "id": "cXcNaMxHIHKX"
      },
      "source": [
        "<a id='step_2.5.2'></a>"
      ]
    },
    {
      "cell_type": "markdown",
      "metadata": {
        "id": "YcogCXn-IHKY"
      },
      "source": [
        "#### Просмотрим уникальные значения в столбце 'family_status'"
      ]
    },
    {
      "cell_type": "code",
      "metadata": {
        "id": "_AySnZx5IHKY",
        "outputId": "1b94fc35-9e18-450b-b1bb-60312cd7a32b"
      },
      "source": [
        "data_m['family_status'].duplicated().sum()"
      ],
      "execution_count": null,
      "outputs": [
        {
          "output_type": "execute_result",
          "data": {
            "text/plain": [
              "21444"
            ]
          },
          "metadata": {
            "tags": []
          },
          "execution_count": 34
        }
      ]
    },
    {
      "cell_type": "code",
      "metadata": {
        "id": "aOwXvQpNIHKY",
        "outputId": "1deda9a3-51b8-4959-f4b3-65dda1370a66"
      },
      "source": [
        "print(data_m['family_status'].unique())"
      ],
      "execution_count": null,
      "outputs": [
        {
          "output_type": "stream",
          "text": [
            "['женат / замужем' 'гражданский брак' 'вдовец / вдова' 'в разводе'\n",
            " 'Не женат / не замужем']\n"
          ],
          "name": "stdout"
        }
      ]
    },
    {
      "cell_type": "markdown",
      "metadata": {
        "id": "M_Js9RjJIHKZ"
      },
      "source": [
        "##### приведём все значения столбца 'education' в нижний регистр"
      ]
    },
    {
      "cell_type": "code",
      "metadata": {
        "scrolled": true,
        "id": "B5RTqwTGIHKZ",
        "outputId": "557bf59d-50da-4378-9656-6846d020f044"
      },
      "source": [
        "data_m['family_status'] = data_m['family_status'].str.lower()\n",
        "print(data_m['family_status'].unique()) # проверяем результат"
      ],
      "execution_count": null,
      "outputs": [
        {
          "output_type": "stream",
          "text": [
            "['женат / замужем' 'гражданский брак' 'вдовец / вдова' 'в разводе'\n",
            " 'не женат / не замужем']\n"
          ],
          "name": "stdout"
        }
      ]
    },
    {
      "cell_type": "markdown",
      "metadata": {
        "id": "1p6_3SCzIHKZ"
      },
      "source": [
        "<a id='step_2.5.3'></a>"
      ]
    },
    {
      "cell_type": "markdown",
      "metadata": {
        "id": "fLzt7fLfIHKZ"
      },
      "source": [
        "#### Просмотрим уникальные значения в столбце 'gender'"
      ]
    },
    {
      "cell_type": "code",
      "metadata": {
        "scrolled": true,
        "id": "V2SiFExCIHKa",
        "outputId": "44028d54-e9d6-48a8-c0ce-285b25bc1db8"
      },
      "source": [
        "data_m['gender'].unique() "
      ],
      "execution_count": null,
      "outputs": [
        {
          "output_type": "execute_result",
          "data": {
            "text/plain": [
              "array(['F', 'M', 'XNA'], dtype=object)"
            ]
          },
          "metadata": {
            "tags": []
          },
          "execution_count": 37
        }
      ]
    },
    {
      "cell_type": "markdown",
      "metadata": {
        "id": "QU1CLws6IHKa"
      },
      "source": [
        "##### выведем строчку целиком для ознакомления"
      ]
    },
    {
      "cell_type": "code",
      "metadata": {
        "scrolled": true,
        "id": "KsBhc4vQIHKa",
        "outputId": "95280ab1-d1bb-4ea3-9e4d-b9c07e64157e"
      },
      "source": [
        "data_m.loc[data['gender']=='XNA'] "
      ],
      "execution_count": null,
      "outputs": [
        {
          "output_type": "execute_result",
          "data": {
            "text/html": [
              "<div>\n",
              "<style scoped>\n",
              "    .dataframe tbody tr th:only-of-type {\n",
              "        vertical-align: middle;\n",
              "    }\n",
              "\n",
              "    .dataframe tbody tr th {\n",
              "        vertical-align: top;\n",
              "    }\n",
              "\n",
              "    .dataframe thead th {\n",
              "        text-align: right;\n",
              "    }\n",
              "</style>\n",
              "<table border=\"1\" class=\"dataframe\">\n",
              "  <thead>\n",
              "    <tr style=\"text-align: right;\">\n",
              "      <th></th>\n",
              "      <th>children</th>\n",
              "      <th>days_employed</th>\n",
              "      <th>dob_years</th>\n",
              "      <th>education</th>\n",
              "      <th>education_id</th>\n",
              "      <th>family_status</th>\n",
              "      <th>family_status_id</th>\n",
              "      <th>gender</th>\n",
              "      <th>income_type</th>\n",
              "      <th>debt</th>\n",
              "      <th>total_income</th>\n",
              "      <th>purpose</th>\n",
              "    </tr>\n",
              "  </thead>\n",
              "  <tbody>\n",
              "    <tr>\n",
              "      <td>10701</td>\n",
              "      <td>0</td>\n",
              "      <td>2358</td>\n",
              "      <td>24</td>\n",
              "      <td>неоконченное высшее</td>\n",
              "      <td>2</td>\n",
              "      <td>гражданский брак</td>\n",
              "      <td>1</td>\n",
              "      <td>XNA</td>\n",
              "      <td>компаньон</td>\n",
              "      <td>0</td>\n",
              "      <td>203905</td>\n",
              "      <td>покупка недвижимости</td>\n",
              "    </tr>\n",
              "  </tbody>\n",
              "</table>\n",
              "</div>"
            ],
            "text/plain": [
              "       children  days_employed  dob_years            education  education_id  \\\n",
              "10701         0           2358         24  неоконченное высшее             2   \n",
              "\n",
              "          family_status  family_status_id gender income_type  debt  \\\n",
              "10701  гражданский брак                 1    XNA   компаньон     0   \n",
              "\n",
              "       total_income               purpose  \n",
              "10701        203905  покупка недвижимости  "
            ]
          },
          "metadata": {
            "tags": []
          },
          "execution_count": 38
        }
      ]
    },
    {
      "cell_type": "markdown",
      "metadata": {
        "id": "rzl1UHUaIHKb"
      },
      "source": [
        "##### по результату ознакомления с данными делаем вывод что мы не можем однозначно определить к какому полу относятся данные столбца 'gender'. Удаляем строку с неопределённым значением из таблицы данных и проверяем результат"
      ]
    },
    {
      "cell_type": "code",
      "metadata": {
        "scrolled": true,
        "id": "8qVaYlCZIHKc",
        "outputId": "b1fda0ac-cde8-492e-acd1-b5af8773d07a"
      },
      "source": [
        "data_m = data_m[data_m.gender != 'XNA']\n",
        "print(data_m['gender'].unique()) "
      ],
      "execution_count": null,
      "outputs": [
        {
          "output_type": "stream",
          "text": [
            "['F' 'M']\n"
          ],
          "name": "stdout"
        }
      ]
    },
    {
      "cell_type": "code",
      "metadata": {
        "id": "neoT1lyPIHKc",
        "outputId": "8fb6ca78-c14b-4e8f-8746-492dfdfac181"
      },
      "source": [
        "data_m['purpose'].duplicated().sum()"
      ],
      "execution_count": null,
      "outputs": [
        {
          "output_type": "execute_result",
          "data": {
            "text/plain": [
              "21410"
            ]
          },
          "metadata": {
            "tags": []
          },
          "execution_count": 40
        }
      ]
    },
    {
      "cell_type": "markdown",
      "metadata": {
        "id": "K7dkDctkIHKe"
      },
      "source": [
        "<a id='step_2.5.4'></a>"
      ]
    },
    {
      "cell_type": "markdown",
      "metadata": {
        "id": "iaPVT1-DIHKf"
      },
      "source": [
        "#### Просмотрим список уникальных значений по столбцу 'purpose'"
      ]
    },
    {
      "cell_type": "code",
      "metadata": {
        "scrolled": true,
        "id": "JksAdwszIHKf",
        "outputId": "1ccb9373-9411-4e90-f9e7-817e1e956575"
      },
      "source": [
        "print(data_m['purpose'].unique())"
      ],
      "execution_count": null,
      "outputs": [
        {
          "output_type": "stream",
          "text": [
            "['покупка жилья' 'приобретение автомобиля' 'дополнительное образование'\n",
            " 'сыграть свадьбу' 'операции с жильем' 'образование'\n",
            " 'на проведение свадьбы' 'покупка жилья для семьи' 'покупка недвижимости'\n",
            " 'покупка коммерческой недвижимости' 'покупка жилой недвижимости'\n",
            " 'строительство собственной недвижимости' 'недвижимость'\n",
            " 'строительство недвижимости' 'на покупку подержанного автомобиля'\n",
            " 'на покупку своего автомобиля' 'операции с коммерческой недвижимостью'\n",
            " 'строительство жилой недвижимости' 'жилье'\n",
            " 'операции со своей недвижимостью' 'автомобили' 'заняться образованием'\n",
            " 'сделка с подержанным автомобилем' 'получение образования' 'автомобиль'\n",
            " 'свадьба' 'получение дополнительного образования' 'покупка своего жилья'\n",
            " 'операции с недвижимостью' 'получение высшего образования'\n",
            " 'свой автомобиль' 'сделка с автомобилем' 'профильное образование'\n",
            " 'высшее образование' 'покупка жилья для сдачи' 'на покупку автомобиля'\n",
            " 'ремонт жилью' 'заняться высшим образованием']\n"
          ],
          "name": "stdout"
        }
      ]
    },
    {
      "cell_type": "markdown",
      "metadata": {
        "id": "zJuBMCtwIHKg"
      },
      "source": [
        "##### устраним опечатку и вернём правильное слово обрвтно в таблицу"
      ]
    },
    {
      "cell_type": "code",
      "metadata": {
        "scrolled": false,
        "id": "mkZZCEoLIHKg",
        "outputId": "743746de-6a39-45af-c2a5-2aa23a9f5e20"
      },
      "source": [
        "data_m['purpose'] = data_m['purpose'].replace('ремонт жилью', 'ремонт жилья')\n",
        "print(data_m['purpose'].unique())"
      ],
      "execution_count": null,
      "outputs": [
        {
          "output_type": "stream",
          "text": [
            "['покупка жилья' 'приобретение автомобиля' 'дополнительное образование'\n",
            " 'сыграть свадьбу' 'операции с жильем' 'образование'\n",
            " 'на проведение свадьбы' 'покупка жилья для семьи' 'покупка недвижимости'\n",
            " 'покупка коммерческой недвижимости' 'покупка жилой недвижимости'\n",
            " 'строительство собственной недвижимости' 'недвижимость'\n",
            " 'строительство недвижимости' 'на покупку подержанного автомобиля'\n",
            " 'на покупку своего автомобиля' 'операции с коммерческой недвижимостью'\n",
            " 'строительство жилой недвижимости' 'жилье'\n",
            " 'операции со своей недвижимостью' 'автомобили' 'заняться образованием'\n",
            " 'сделка с подержанным автомобилем' 'получение образования' 'автомобиль'\n",
            " 'свадьба' 'получение дополнительного образования' 'покупка своего жилья'\n",
            " 'операции с недвижимостью' 'получение высшего образования'\n",
            " 'свой автомобиль' 'сделка с автомобилем' 'профильное образование'\n",
            " 'высшее образование' 'покупка жилья для сдачи' 'на покупку автомобиля'\n",
            " 'ремонт жилья' 'заняться высшим образованием']\n"
          ],
          "name": "stdout"
        }
      ]
    },
    {
      "cell_type": "markdown",
      "metadata": {
        "id": "3OfjWk3MIHKh"
      },
      "source": [
        "##### проверим на количество дубликатов"
      ]
    },
    {
      "cell_type": "code",
      "metadata": {
        "id": "ZE3oK8GRIHKh",
        "outputId": "0a0b074c-064c-4ae8-b41e-0df1f6ff2265"
      },
      "source": [
        "data_m['purpose'].duplicated().sum()"
      ],
      "execution_count": null,
      "outputs": [
        {
          "output_type": "execute_result",
          "data": {
            "text/plain": [
              "21410"
            ]
          },
          "metadata": {
            "tags": []
          },
          "execution_count": 43
        }
      ]
    },
    {
      "cell_type": "markdown",
      "metadata": {
        "id": "hivjcxCGIHKi"
      },
      "source": [
        "<a id ='step_2.5.5'></a>"
      ]
    },
    {
      "cell_type": "markdown",
      "metadata": {
        "id": "mmsGRDqKIHKi"
      },
      "source": [
        "### Вывод"
      ]
    },
    {
      "cell_type": "markdown",
      "metadata": {
        "id": "mDkAG1MSIHKi"
      },
      "source": [
        "Все данные удалось отсортировать от дубликатов, которые были вызваны разными регистрами, за исключением колонки с целями получения кредита. В данном случае потребуется использовать специальную функцию лемматизации. Исходя из количества дубликатов в колонке целей получения кредита, можно ожидать большое количество разновидностей написания одной и той же цели "
      ]
    },
    {
      "cell_type": "markdown",
      "metadata": {
        "id": "0KQhuROoIHKi"
      },
      "source": [
        "<a id='step_2.6'></a>\n",
        "<a href='#start'>Вернуться к оглавлению</a>"
      ]
    },
    {
      "cell_type": "markdown",
      "metadata": {
        "id": "Fu2rDK9FIHKj"
      },
      "source": [
        "### Лемматизация"
      ]
    },
    {
      "cell_type": "markdown",
      "metadata": {
        "id": "Hoe1FZk4IHKj"
      },
      "source": [
        "##### В описании целей кредита множество формулировок одной и той же цели, по-этому нам потребуется самый продвинутый способ приведения списка целей к лемме.\n"
      ]
    },
    {
      "cell_type": "code",
      "metadata": {
        "scrolled": false,
        "id": "EvFXhYjEIHKj",
        "outputId": "292468bb-4476-4359-b55b-9f0f4b363b7c"
      },
      "source": [
        "# загружаем библиотеку 'pymystem3' так как это более продвинутый процесс лемматизации в отличии от стемминга.\n",
        "from collections import Counter\n",
        "from pymystem3 import Mystem\n",
        "m = Mystem()\n",
        "\n",
        "\n",
        "L = [] # для наглядности выводим количество полученных слов после лемматизации в колонке\n",
        "for text in data_m['purpose']:\n",
        "    lemmas = ''.join(m.lemmatize(text)) # удаляем лишние символы\n",
        "    L.append(lemmas)\n",
        "\n",
        "Counter(L)\n"
      ],
      "execution_count": null,
      "outputs": [
        {
          "output_type": "execute_result",
          "data": {
            "text/plain": [
              "Counter({'покупка жилье\\n': 644,\n",
              "         'приобретение автомобиль\\n': 462,\n",
              "         'дополнительный образование\\n': 459,\n",
              "         'сыграть свадьба\\n': 770,\n",
              "         'операция с жилье\\n': 649,\n",
              "         'образование\\n': 445,\n",
              "         'на проведение свадьба\\n': 773,\n",
              "         'покупка жилье для семья\\n': 640,\n",
              "         'покупка недвижимость\\n': 621,\n",
              "         'покупка коммерческий недвижимость\\n': 661,\n",
              "         'покупка жилой недвижимость\\n': 605,\n",
              "         'строительство собственный недвижимость\\n': 629,\n",
              "         'недвижимость\\n': 633,\n",
              "         'строительство недвижимость\\n': 620,\n",
              "         'на покупка подержать автомобиль\\n': 473,\n",
              "         'на покупка свой автомобиль\\n': 505,\n",
              "         'операция с коммерческий недвижимость\\n': 647,\n",
              "         'строительство жилой недвижимость\\n': 625,\n",
              "         'жилье\\n': 643,\n",
              "         'операция со свой недвижимость\\n': 629,\n",
              "         'автомобиль\\n': 971,\n",
              "         'заниматься образование\\n': 412,\n",
              "         'сделка с подержанный автомобиль\\n': 485,\n",
              "         'получение образование\\n': 442,\n",
              "         'свадьба\\n': 796,\n",
              "         'получение дополнительный образование\\n': 446,\n",
              "         'покупка свой жилье\\n': 620,\n",
              "         'операция с недвижимость\\n': 675,\n",
              "         'получение высокий образование\\n': 425,\n",
              "         'свой автомобиль\\n': 477,\n",
              "         'сделка с автомобиль\\n': 455,\n",
              "         'профильный образование\\n': 434,\n",
              "         'высокий образование\\n': 448,\n",
              "         'покупка жилье для сдача\\n': 652,\n",
              "         'на покупка автомобиль\\n': 471,\n",
              "         'ремонт жилье\\n': 610,\n",
              "         'заниматься высокий образование\\n': 496})"
            ]
          },
          "metadata": {
            "tags": []
          },
          "execution_count": 44
        }
      ]
    },
    {
      "cell_type": "markdown",
      "metadata": {
        "id": "8IK_K4YtIHKj"
      },
      "source": [
        "<a id='step_2.6.1'></a>"
      ]
    },
    {
      "cell_type": "markdown",
      "metadata": {
        "id": "L_UBYMVxIHKk"
      },
      "source": [
        "### Вывод"
      ]
    },
    {
      "cell_type": "markdown",
      "metadata": {
        "id": "bUT8bShbIHKk"
      },
      "source": [
        "Судя по данным выборки лемм и подсчёта их количества, кредит в основной массе берут на приобретение автомобиля, жилья и свадьбу"
      ]
    },
    {
      "cell_type": "markdown",
      "metadata": {
        "id": "WzyvFZ93IHKk"
      },
      "source": [
        "<a id='step_2.7'></a>\n",
        "<a href='#start'>Вернуться к оглавлению</a>"
      ]
    },
    {
      "cell_type": "markdown",
      "metadata": {
        "id": "Bw8ybrmJIHKk"
      },
      "source": [
        "### Категоризация данных"
      ]
    },
    {
      "cell_type": "markdown",
      "metadata": {
        "id": "goRtAQ3PIHKl"
      },
      "source": [
        "##### начнём категоризацию с переиндексирования строк общей таблицы после удаления данных."
      ]
    },
    {
      "cell_type": "code",
      "metadata": {
        "scrolled": false,
        "id": "W7FLYtPuIHKl"
      },
      "source": [
        "data_m = data_m.reset_index(drop=True)"
      ],
      "execution_count": null,
      "outputs": []
    },
    {
      "cell_type": "markdown",
      "metadata": {
        "id": "si5FAnqIIHKl"
      },
      "source": [
        "##### добавим новый столбец с леммами в основную таблицу"
      ]
    },
    {
      "cell_type": "code",
      "metadata": {
        "id": "OV3OWNqAIHKl"
      },
      "source": [
        "def sort_group(row):\n",
        "    lemm_name = row['purpose']\n",
        "    lemm = ''.join(m.lemmatize(lemm_name))\n",
        "    return lemm\n",
        "data_m['lemma'] = data_m.apply(sort_group, axis=1)"
      ],
      "execution_count": null,
      "outputs": []
    },
    {
      "cell_type": "code",
      "metadata": {
        "scrolled": true,
        "id": "5uHgAaBDIHKm",
        "outputId": "8d53fb5b-94d6-4f0e-f784-51f29167ecad"
      },
      "source": [
        "data_m['lemma'] = data_m['lemma'].replace('\\n','', regex=True)\n",
        "data_m.head()"
      ],
      "execution_count": null,
      "outputs": [
        {
          "output_type": "execute_result",
          "data": {
            "text/html": [
              "<div>\n",
              "<style scoped>\n",
              "    .dataframe tbody tr th:only-of-type {\n",
              "        vertical-align: middle;\n",
              "    }\n",
              "\n",
              "    .dataframe tbody tr th {\n",
              "        vertical-align: top;\n",
              "    }\n",
              "\n",
              "    .dataframe thead th {\n",
              "        text-align: right;\n",
              "    }\n",
              "</style>\n",
              "<table border=\"1\" class=\"dataframe\">\n",
              "  <thead>\n",
              "    <tr style=\"text-align: right;\">\n",
              "      <th></th>\n",
              "      <th>children</th>\n",
              "      <th>days_employed</th>\n",
              "      <th>dob_years</th>\n",
              "      <th>education</th>\n",
              "      <th>education_id</th>\n",
              "      <th>family_status</th>\n",
              "      <th>family_status_id</th>\n",
              "      <th>gender</th>\n",
              "      <th>income_type</th>\n",
              "      <th>debt</th>\n",
              "      <th>total_income</th>\n",
              "      <th>purpose</th>\n",
              "      <th>lemma</th>\n",
              "    </tr>\n",
              "  </thead>\n",
              "  <tbody>\n",
              "    <tr>\n",
              "      <td>0</td>\n",
              "      <td>1</td>\n",
              "      <td>8437</td>\n",
              "      <td>42</td>\n",
              "      <td>высшее</td>\n",
              "      <td>0</td>\n",
              "      <td>женат / замужем</td>\n",
              "      <td>0</td>\n",
              "      <td>F</td>\n",
              "      <td>сотрудник</td>\n",
              "      <td>0</td>\n",
              "      <td>253875</td>\n",
              "      <td>покупка жилья</td>\n",
              "      <td>покупка жилье</td>\n",
              "    </tr>\n",
              "    <tr>\n",
              "      <td>1</td>\n",
              "      <td>1</td>\n",
              "      <td>4024</td>\n",
              "      <td>36</td>\n",
              "      <td>среднее</td>\n",
              "      <td>1</td>\n",
              "      <td>женат / замужем</td>\n",
              "      <td>0</td>\n",
              "      <td>F</td>\n",
              "      <td>сотрудник</td>\n",
              "      <td>0</td>\n",
              "      <td>112080</td>\n",
              "      <td>приобретение автомобиля</td>\n",
              "      <td>приобретение автомобиль</td>\n",
              "    </tr>\n",
              "    <tr>\n",
              "      <td>2</td>\n",
              "      <td>0</td>\n",
              "      <td>5623</td>\n",
              "      <td>33</td>\n",
              "      <td>среднее</td>\n",
              "      <td>1</td>\n",
              "      <td>женат / замужем</td>\n",
              "      <td>0</td>\n",
              "      <td>M</td>\n",
              "      <td>сотрудник</td>\n",
              "      <td>0</td>\n",
              "      <td>145885</td>\n",
              "      <td>покупка жилья</td>\n",
              "      <td>покупка жилье</td>\n",
              "    </tr>\n",
              "    <tr>\n",
              "      <td>3</td>\n",
              "      <td>3</td>\n",
              "      <td>4124</td>\n",
              "      <td>32</td>\n",
              "      <td>среднее</td>\n",
              "      <td>1</td>\n",
              "      <td>женат / замужем</td>\n",
              "      <td>0</td>\n",
              "      <td>M</td>\n",
              "      <td>сотрудник</td>\n",
              "      <td>0</td>\n",
              "      <td>267628</td>\n",
              "      <td>дополнительное образование</td>\n",
              "      <td>дополнительный образование</td>\n",
              "    </tr>\n",
              "    <tr>\n",
              "      <td>4</td>\n",
              "      <td>0</td>\n",
              "      <td>2069</td>\n",
              "      <td>53</td>\n",
              "      <td>среднее</td>\n",
              "      <td>1</td>\n",
              "      <td>гражданский брак</td>\n",
              "      <td>1</td>\n",
              "      <td>F</td>\n",
              "      <td>пенсионер</td>\n",
              "      <td>0</td>\n",
              "      <td>158616</td>\n",
              "      <td>сыграть свадьбу</td>\n",
              "      <td>сыграть свадьба</td>\n",
              "    </tr>\n",
              "  </tbody>\n",
              "</table>\n",
              "</div>"
            ],
            "text/plain": [
              "   children  days_employed  dob_years education  education_id  \\\n",
              "0         1           8437         42    высшее             0   \n",
              "1         1           4024         36   среднее             1   \n",
              "2         0           5623         33   среднее             1   \n",
              "3         3           4124         32   среднее             1   \n",
              "4         0           2069         53   среднее             1   \n",
              "\n",
              "      family_status  family_status_id gender income_type  debt  total_income  \\\n",
              "0   женат / замужем                 0      F   сотрудник     0        253875   \n",
              "1   женат / замужем                 0      F   сотрудник     0        112080   \n",
              "2   женат / замужем                 0      M   сотрудник     0        145885   \n",
              "3   женат / замужем                 0      M   сотрудник     0        267628   \n",
              "4  гражданский брак                 1      F   пенсионер     0        158616   \n",
              "\n",
              "                      purpose                       lemma  \n",
              "0               покупка жилья               покупка жилье  \n",
              "1     приобретение автомобиля     приобретение автомобиль  \n",
              "2               покупка жилья               покупка жилье  \n",
              "3  дополнительное образование  дополнительный образование  \n",
              "4             сыграть свадьбу             сыграть свадьба  "
            ]
          },
          "metadata": {
            "tags": []
          },
          "execution_count": 47
        }
      ]
    },
    {
      "cell_type": "markdown",
      "metadata": {
        "id": "5TluNiP7IHKm"
      },
      "source": [
        "##### добавим новый столбец c основными группами целей кредита"
      ]
    },
    {
      "cell_type": "code",
      "metadata": {
        "scrolled": false,
        "id": "xpos13gcIHKm",
        "outputId": "65c3d943-a182-44ad-b777-a51b5b7c1967"
      },
      "source": [
        "def lemm_group(lemma):\n",
        "    word_in = lemma['lemma']\n",
        "    \n",
        "    if 'операция с жилье' in word_in or 'жилье' in word_in or 'покупка жилье' in word_in or 'строительство собственный недвижимость' in word_in or 'покупка жилье для семья ' in word_in or 'покупка жилой недвижимость' in word_in or 'покупка коммерческий недвижимость' in word_in or 'недвижимость' in word_in:\n",
        "        return 'Операции с недвижимостью'\n",
        "    \n",
        "    if 'приобретение автомобиль' in word_in  or 'автомобиль' in word_in  or 'на покупка автомобиль' in word_in or 'свой автомобиль' in word_in or 'сделка с подержанный автомобиль' in word_in:\n",
        "        return 'Операции с автомобилями'\n",
        "    \n",
        "    if 'сыграть свадьба' in word_in or 'на проведение свадьба' in word_in or 'свадьба' in word_in:\n",
        "        return 'Свадьба'\n",
        "    \n",
        "    if 'образование' in word_in or 'дополнительный образование' in word_in  or 'заниматься образование' in word_in:\n",
        "        return 'Образование'\n",
        "    \n",
        "    else:\n",
        "        return 'другие'\n",
        "data_m['lemm_group'] = data_m.apply(lemm_group, axis=1)\n",
        "data_m.head(10)"
      ],
      "execution_count": null,
      "outputs": [
        {
          "output_type": "execute_result",
          "data": {
            "text/html": [
              "<div>\n",
              "<style scoped>\n",
              "    .dataframe tbody tr th:only-of-type {\n",
              "        vertical-align: middle;\n",
              "    }\n",
              "\n",
              "    .dataframe tbody tr th {\n",
              "        vertical-align: top;\n",
              "    }\n",
              "\n",
              "    .dataframe thead th {\n",
              "        text-align: right;\n",
              "    }\n",
              "</style>\n",
              "<table border=\"1\" class=\"dataframe\">\n",
              "  <thead>\n",
              "    <tr style=\"text-align: right;\">\n",
              "      <th></th>\n",
              "      <th>children</th>\n",
              "      <th>days_employed</th>\n",
              "      <th>dob_years</th>\n",
              "      <th>education</th>\n",
              "      <th>education_id</th>\n",
              "      <th>family_status</th>\n",
              "      <th>family_status_id</th>\n",
              "      <th>gender</th>\n",
              "      <th>income_type</th>\n",
              "      <th>debt</th>\n",
              "      <th>total_income</th>\n",
              "      <th>purpose</th>\n",
              "      <th>lemma</th>\n",
              "      <th>lemm_group</th>\n",
              "    </tr>\n",
              "  </thead>\n",
              "  <tbody>\n",
              "    <tr>\n",
              "      <td>0</td>\n",
              "      <td>1</td>\n",
              "      <td>8437</td>\n",
              "      <td>42</td>\n",
              "      <td>высшее</td>\n",
              "      <td>0</td>\n",
              "      <td>женат / замужем</td>\n",
              "      <td>0</td>\n",
              "      <td>F</td>\n",
              "      <td>сотрудник</td>\n",
              "      <td>0</td>\n",
              "      <td>253875</td>\n",
              "      <td>покупка жилья</td>\n",
              "      <td>покупка жилье</td>\n",
              "      <td>Операции с недвижимостью</td>\n",
              "    </tr>\n",
              "    <tr>\n",
              "      <td>1</td>\n",
              "      <td>1</td>\n",
              "      <td>4024</td>\n",
              "      <td>36</td>\n",
              "      <td>среднее</td>\n",
              "      <td>1</td>\n",
              "      <td>женат / замужем</td>\n",
              "      <td>0</td>\n",
              "      <td>F</td>\n",
              "      <td>сотрудник</td>\n",
              "      <td>0</td>\n",
              "      <td>112080</td>\n",
              "      <td>приобретение автомобиля</td>\n",
              "      <td>приобретение автомобиль</td>\n",
              "      <td>Операции с автомобилями</td>\n",
              "    </tr>\n",
              "    <tr>\n",
              "      <td>2</td>\n",
              "      <td>0</td>\n",
              "      <td>5623</td>\n",
              "      <td>33</td>\n",
              "      <td>среднее</td>\n",
              "      <td>1</td>\n",
              "      <td>женат / замужем</td>\n",
              "      <td>0</td>\n",
              "      <td>M</td>\n",
              "      <td>сотрудник</td>\n",
              "      <td>0</td>\n",
              "      <td>145885</td>\n",
              "      <td>покупка жилья</td>\n",
              "      <td>покупка жилье</td>\n",
              "      <td>Операции с недвижимостью</td>\n",
              "    </tr>\n",
              "    <tr>\n",
              "      <td>3</td>\n",
              "      <td>3</td>\n",
              "      <td>4124</td>\n",
              "      <td>32</td>\n",
              "      <td>среднее</td>\n",
              "      <td>1</td>\n",
              "      <td>женат / замужем</td>\n",
              "      <td>0</td>\n",
              "      <td>M</td>\n",
              "      <td>сотрудник</td>\n",
              "      <td>0</td>\n",
              "      <td>267628</td>\n",
              "      <td>дополнительное образование</td>\n",
              "      <td>дополнительный образование</td>\n",
              "      <td>Образование</td>\n",
              "    </tr>\n",
              "    <tr>\n",
              "      <td>4</td>\n",
              "      <td>0</td>\n",
              "      <td>2069</td>\n",
              "      <td>53</td>\n",
              "      <td>среднее</td>\n",
              "      <td>1</td>\n",
              "      <td>гражданский брак</td>\n",
              "      <td>1</td>\n",
              "      <td>F</td>\n",
              "      <td>пенсионер</td>\n",
              "      <td>0</td>\n",
              "      <td>158616</td>\n",
              "      <td>сыграть свадьбу</td>\n",
              "      <td>сыграть свадьба</td>\n",
              "      <td>Свадьба</td>\n",
              "    </tr>\n",
              "    <tr>\n",
              "      <td>5</td>\n",
              "      <td>0</td>\n",
              "      <td>926</td>\n",
              "      <td>27</td>\n",
              "      <td>высшее</td>\n",
              "      <td>0</td>\n",
              "      <td>гражданский брак</td>\n",
              "      <td>1</td>\n",
              "      <td>M</td>\n",
              "      <td>компаньон</td>\n",
              "      <td>0</td>\n",
              "      <td>255763</td>\n",
              "      <td>покупка жилья</td>\n",
              "      <td>покупка жилье</td>\n",
              "      <td>Операции с недвижимостью</td>\n",
              "    </tr>\n",
              "    <tr>\n",
              "      <td>6</td>\n",
              "      <td>0</td>\n",
              "      <td>2879</td>\n",
              "      <td>43</td>\n",
              "      <td>высшее</td>\n",
              "      <td>0</td>\n",
              "      <td>женат / замужем</td>\n",
              "      <td>0</td>\n",
              "      <td>F</td>\n",
              "      <td>компаньон</td>\n",
              "      <td>0</td>\n",
              "      <td>240525</td>\n",
              "      <td>операции с жильем</td>\n",
              "      <td>операция с жилье</td>\n",
              "      <td>Операции с недвижимостью</td>\n",
              "    </tr>\n",
              "    <tr>\n",
              "      <td>7</td>\n",
              "      <td>0</td>\n",
              "      <td>152</td>\n",
              "      <td>50</td>\n",
              "      <td>среднее</td>\n",
              "      <td>1</td>\n",
              "      <td>женат / замужем</td>\n",
              "      <td>0</td>\n",
              "      <td>M</td>\n",
              "      <td>сотрудник</td>\n",
              "      <td>0</td>\n",
              "      <td>135823</td>\n",
              "      <td>образование</td>\n",
              "      <td>образование</td>\n",
              "      <td>Образование</td>\n",
              "    </tr>\n",
              "    <tr>\n",
              "      <td>8</td>\n",
              "      <td>2</td>\n",
              "      <td>6929</td>\n",
              "      <td>35</td>\n",
              "      <td>высшее</td>\n",
              "      <td>0</td>\n",
              "      <td>гражданский брак</td>\n",
              "      <td>1</td>\n",
              "      <td>F</td>\n",
              "      <td>сотрудник</td>\n",
              "      <td>0</td>\n",
              "      <td>95856</td>\n",
              "      <td>на проведение свадьбы</td>\n",
              "      <td>на проведение свадьба</td>\n",
              "      <td>Свадьба</td>\n",
              "    </tr>\n",
              "    <tr>\n",
              "      <td>9</td>\n",
              "      <td>0</td>\n",
              "      <td>2188</td>\n",
              "      <td>41</td>\n",
              "      <td>среднее</td>\n",
              "      <td>1</td>\n",
              "      <td>женат / замужем</td>\n",
              "      <td>0</td>\n",
              "      <td>M</td>\n",
              "      <td>сотрудник</td>\n",
              "      <td>0</td>\n",
              "      <td>144425</td>\n",
              "      <td>покупка жилья для семьи</td>\n",
              "      <td>покупка жилье для семья</td>\n",
              "      <td>Операции с недвижимостью</td>\n",
              "    </tr>\n",
              "  </tbody>\n",
              "</table>\n",
              "</div>"
            ],
            "text/plain": [
              "   children  days_employed  dob_years education  education_id  \\\n",
              "0         1           8437         42    высшее             0   \n",
              "1         1           4024         36   среднее             1   \n",
              "2         0           5623         33   среднее             1   \n",
              "3         3           4124         32   среднее             1   \n",
              "4         0           2069         53   среднее             1   \n",
              "5         0            926         27    высшее             0   \n",
              "6         0           2879         43    высшее             0   \n",
              "7         0            152         50   среднее             1   \n",
              "8         2           6929         35    высшее             0   \n",
              "9         0           2188         41   среднее             1   \n",
              "\n",
              "      family_status  family_status_id gender income_type  debt  total_income  \\\n",
              "0   женат / замужем                 0      F   сотрудник     0        253875   \n",
              "1   женат / замужем                 0      F   сотрудник     0        112080   \n",
              "2   женат / замужем                 0      M   сотрудник     0        145885   \n",
              "3   женат / замужем                 0      M   сотрудник     0        267628   \n",
              "4  гражданский брак                 1      F   пенсионер     0        158616   \n",
              "5  гражданский брак                 1      M   компаньон     0        255763   \n",
              "6   женат / замужем                 0      F   компаньон     0        240525   \n",
              "7   женат / замужем                 0      M   сотрудник     0        135823   \n",
              "8  гражданский брак                 1      F   сотрудник     0         95856   \n",
              "9   женат / замужем                 0      M   сотрудник     0        144425   \n",
              "\n",
              "                      purpose                       lemma  \\\n",
              "0               покупка жилья               покупка жилье   \n",
              "1     приобретение автомобиля     приобретение автомобиль   \n",
              "2               покупка жилья               покупка жилье   \n",
              "3  дополнительное образование  дополнительный образование   \n",
              "4             сыграть свадьбу             сыграть свадьба   \n",
              "5               покупка жилья               покупка жилье   \n",
              "6           операции с жильем            операция с жилье   \n",
              "7                 образование                 образование   \n",
              "8       на проведение свадьбы       на проведение свадьба   \n",
              "9     покупка жилья для семьи     покупка жилье для семья   \n",
              "\n",
              "                 lemm_group  \n",
              "0  Операции с недвижимостью  \n",
              "1   Операции с автомобилями  \n",
              "2  Операции с недвижимостью  \n",
              "3               Образование  \n",
              "4                   Свадьба  \n",
              "5  Операции с недвижимостью  \n",
              "6  Операции с недвижимостью  \n",
              "7               Образование  \n",
              "8                   Свадьба  \n",
              "9  Операции с недвижимостью  "
            ]
          },
          "metadata": {
            "tags": []
          },
          "execution_count": 48
        }
      ]
    },
    {
      "cell_type": "markdown",
      "metadata": {
        "id": "LHbx6Hn8IHKn"
      },
      "source": [
        "<a id='step_2.7.1'></a>"
      ]
    },
    {
      "cell_type": "markdown",
      "metadata": {
        "id": "9H_6e135IHKn"
      },
      "source": [
        "##### произведём подсчёт количества кредитов по основным целям"
      ]
    },
    {
      "cell_type": "code",
      "metadata": {
        "scrolled": true,
        "id": "doONRBtWIHKo",
        "outputId": "50fda827-38f5-42a7-c49b-fb2bd0bc2561"
      },
      "source": [
        "data_m['lemm_group'].value_counts()"
      ],
      "execution_count": null,
      "outputs": [
        {
          "output_type": "execute_result",
          "data": {
            "text/plain": [
              "Операции с недвижимостью    10803\n",
              "Операции с автомобилями      4299\n",
              "Образование                  4007\n",
              "Свадьба                      2339\n",
              "Name: lemm_group, dtype: int64"
            ]
          },
          "metadata": {
            "tags": []
          },
          "execution_count": 49
        }
      ]
    },
    {
      "cell_type": "markdown",
      "metadata": {
        "id": "TS8xEeq4IHKo"
      },
      "source": [
        "#### Выделим топ 10 основных потребностей клиентов для получения кредита"
      ]
    },
    {
      "cell_type": "code",
      "metadata": {
        "scrolled": false,
        "id": "m5mJ9ec0IHKp",
        "outputId": "3214b688-3bba-43fb-f4e4-1ffd4da607c9"
      },
      "source": [
        "sum_purpose = data_m['lemma'].value_counts()\n",
        "sum_purpose.head(10)"
      ],
      "execution_count": null,
      "outputs": [
        {
          "output_type": "execute_result",
          "data": {
            "text/plain": [
              "автомобиль                              971\n",
              "свадьба                                 796\n",
              "на проведение свадьба                   773\n",
              "сыграть свадьба                         770\n",
              "операция с недвижимость                 675\n",
              "покупка коммерческий недвижимость       661\n",
              "покупка жилье для сдача                 652\n",
              "операция с жилье                        649\n",
              "операция с коммерческий недвижимость    647\n",
              "покупка жилье                           644\n",
              "Name: lemma, dtype: int64"
            ]
          },
          "metadata": {
            "tags": []
          },
          "execution_count": 50
        }
      ]
    },
    {
      "cell_type": "markdown",
      "metadata": {
        "id": "WDlYKHIqIHKp"
      },
      "source": [
        "<a id='step_2.7.2'></a>"
      ]
    },
    {
      "cell_type": "markdown",
      "metadata": {
        "id": "OgnCDsNuIHKp"
      },
      "source": [
        "#### Выделим основные группы людей, кому требуется кредит"
      ]
    },
    {
      "cell_type": "code",
      "metadata": {
        "scrolled": true,
        "id": "TjP9gJuBIHKp",
        "outputId": "d2b30a94-f1d4-4d95-f750-873518f1b71c"
      },
      "source": [
        "data_m['income_type'].value_counts().head(4)"
      ],
      "execution_count": null,
      "outputs": [
        {
          "output_type": "execute_result",
          "data": {
            "text/plain": [
              "сотрудник      11076\n",
              "компаньон       5062\n",
              "пенсионер       3847\n",
              "госслужащий     1457\n",
              "Name: income_type, dtype: int64"
            ]
          },
          "metadata": {
            "tags": []
          },
          "execution_count": 51
        }
      ]
    },
    {
      "cell_type": "code",
      "metadata": {
        "scrolled": false,
        "id": "7PCNsn1hIHKq",
        "outputId": "afe21131-c12b-4ff8-edcf-7924662f9f40"
      },
      "source": [
        "data_m['family_status'].value_counts()"
      ],
      "execution_count": null,
      "outputs": [
        {
          "output_type": "execute_result",
          "data": {
            "text/plain": [
              "женат / замужем          12331\n",
              "гражданский брак          4164\n",
              "не женат / не замужем     2804\n",
              "в разводе                 1193\n",
              "вдовец / вдова             956\n",
              "Name: family_status, dtype: int64"
            ]
          },
          "metadata": {
            "tags": []
          },
          "execution_count": 52
        }
      ]
    },
    {
      "cell_type": "markdown",
      "metadata": {
        "id": "JvdCISgCIHKq"
      },
      "source": [
        "<a id='step_2.7.3'></a>"
      ]
    },
    {
      "cell_type": "markdown",
      "metadata": {
        "id": "dZSAER8OIHKq"
      },
      "source": [
        "#### Произведём категоризацию данных по возростной группе"
      ]
    },
    {
      "cell_type": "code",
      "metadata": {
        "scrolled": true,
        "id": "YCS4gOY8IHKr",
        "outputId": "8e4907f6-fe97-4e5a-e161-8c5c5d948d1c"
      },
      "source": [
        "def age_group(age):\n",
        "       \n",
        "        if age < 35:\n",
        "                return 'золотые годы до 35 лет'\n",
        "        if age <= 64:\n",
        "                return 'взрослые до 65 лет'\n",
        "        return 'пенсионеры старше 65 лет'\n",
        "data_m['age_group'] = data_m['dob_years'].apply(age_group)\n",
        "\n",
        "data_m['age_group'].value_counts()"
      ],
      "execution_count": null,
      "outputs": [
        {
          "output_type": "execute_result",
          "data": {
            "text/plain": [
              "взрослые до 65 лет          14595\n",
              "золотые годы до 35 лет       5955\n",
              "пенсионеры старше 65 лет      898\n",
              "Name: age_group, dtype: int64"
            ]
          },
          "metadata": {
            "tags": []
          },
          "execution_count": 53
        }
      ]
    },
    {
      "cell_type": "markdown",
      "metadata": {
        "id": "PVVtPHJoIHKt"
      },
      "source": [
        "<a id='step_2.7.4'></a>"
      ]
    },
    {
      "cell_type": "markdown",
      "metadata": {
        "id": "JH2zoBe6IHKv"
      },
      "source": [
        "#### Cведём все данные в сводную таблицу для оценки зависимости категории граждан от возврата/невозврата кредита"
      ]
    },
    {
      "cell_type": "code",
      "metadata": {
        "scrolled": false,
        "id": "h9a-dxFuIHKv",
        "outputId": "28cebd7e-b795-44e6-a9ec-3ba1311a186f"
      },
      "source": [
        "data_pivot = data_m.pivot_table(index=['age_group', 'family_status'], columns='debt', values='purpose', aggfunc='count')\n",
        "print(data_pivot)"
      ],
      "execution_count": null,
      "outputs": [
        {
          "output_type": "stream",
          "text": [
            "debt                                               0    1\n",
            "age_group                family_status                   \n",
            "взрослые до 65 лет       в разводе               887   57\n",
            "                         вдовец / вдова          720   49\n",
            "                         гражданский брак       2528  237\n",
            "                         женат / замужем        8132  579\n",
            "                         не женат / не замужем  1293  113\n",
            "золотые годы до 35 лет   в разводе               178   22\n",
            "                         вдовец / вдова           15    2\n",
            "                         гражданский брак       1116  140\n",
            "                         женат / замужем        2843  327\n",
            "                         не женат / не замужем  1154  158\n",
            "пенсионеры старше 65 лет в разводе                44    5\n",
            "                         вдовец / вдова          158   12\n",
            "                         гражданский брак        135    8\n",
            "                         женат / замужем         428   22\n",
            "                         не женат / не замужем    84    2\n"
          ],
          "name": "stdout"
        }
      ]
    },
    {
      "cell_type": "markdown",
      "metadata": {
        "id": "OM5gPkr5IHKx"
      },
      "source": [
        "<a id='step_2.8'></a>"
      ]
    },
    {
      "cell_type": "markdown",
      "metadata": {
        "id": "OiupuUUpIHKx"
      },
      "source": [
        "### Вывод"
      ]
    },
    {
      "cell_type": "markdown",
      "metadata": {
        "id": "JC_dAiGLIHKy"
      },
      "source": [
        "Согласно проведённым исследованиям по категоризации данных, основную потреность в кредите испытывают взрослые люди в возрасте от 35 до 65 лет состоящие в официальном или гражданском браке, в то время как разведённые пенсионеры и вдовцы до 35 лет в кредитах не нуждаются."
      ]
    },
    {
      "cell_type": "markdown",
      "metadata": {
        "id": "VYoxOaqHIHKy"
      },
      "source": [
        "<a id='step_3'></a>"
      ]
    },
    {
      "cell_type": "markdown",
      "metadata": {
        "id": "kYWlUWTqIHKz"
      },
      "source": [
        "### Часть 3. Ответы на вопросы"
      ]
    },
    {
      "cell_type": "markdown",
      "metadata": {
        "id": "Xnu_cyGYIHKz"
      },
      "source": [
        "- Есть ли зависимость между наличием детей и возвратом кредита в срок?"
      ]
    },
    {
      "cell_type": "code",
      "metadata": {
        "scrolled": false,
        "id": "Dt06BBlrIHKz",
        "outputId": "5aba4b6c-91ae-439d-c564-f3401faf4b34"
      },
      "source": [
        "no_return_debt = data_m.loc[data_m['debt'] == 0]\n",
        "n = no_return_debt['children'].value_counts()\n",
        "yes_return_debt = data_m.loc[data_m['debt'] == 1]\n",
        "y = yes_return_debt['children'].value_counts()\n",
        "data_piv_ch = pd.pivot_table(data_m, index=['children'],values= 'purpose', columns='debt', aggfunc='count').fillna(0).astype(int)\n",
        "\n",
        "\n",
        "data_piv_ch['%'] = (y/n *100).fillna(0).astype(int)\n",
        "data_piv_ch['%'] = data_piv_ch['%'].astype(str) + ' %'\n",
        "print('Процент не возврата кредита в срок в зависимости от наличия детей:')\n",
        "print()\n",
        "print(data_piv_ch)"
      ],
      "execution_count": null,
      "outputs": [
        {
          "output_type": "stream",
          "text": [
            "Процент не возврата кредита в срок в зависимости от наличия детей:\n",
            "\n",
            "debt          0     1     %\n",
            "children                   \n",
            "0         13085  1063   8 %\n",
            "1          4420   445  10 %\n",
            "2          1861   194  10 %\n",
            "3           303    27   8 %\n",
            "4            37     4  10 %\n",
            "5             9     0   0 %\n"
          ],
          "name": "stdout"
        }
      ]
    },
    {
      "cell_type": "markdown",
      "metadata": {
        "id": "kTiiCXNHIHK0"
      },
      "source": [
        "<a id='step_3.1.1'></a>"
      ]
    },
    {
      "cell_type": "markdown",
      "metadata": {
        "id": "OHkVfgtZIHK0"
      },
      "source": [
        "### Вывод"
      ]
    },
    {
      "cell_type": "markdown",
      "metadata": {
        "id": "ADslg1VxIHK0"
      },
      "source": [
        "Мы наблюдаем приблизительно равновесную зависимость между наличием детей и возвратом кредита в срок. Клиенты не имеющие детей, с той же вероятностью могут просрочить возврат кредита как и семьи с тремя детьми. Особенно хорошо видна линейная зависимость количества взятых кредитов от количества детей, клиенты без детей в три раза больше берут кредитов в отличии от людей с одним ребёнком и более."
      ]
    },
    {
      "cell_type": "markdown",
      "metadata": {
        "id": "oxjcZ9PPIHK1"
      },
      "source": [
        "- Есть ли зависимость между семейным положением и возвратом кредита в срок?"
      ]
    },
    {
      "cell_type": "code",
      "metadata": {
        "id": "jwlPkROgIHK1",
        "outputId": "585dd605-eb26-415e-fd6a-1cf1a7e09fc9"
      },
      "source": [
        "no_return_fam = data_m.loc[data_m['debt'] == 0]\n",
        "fam_n = no_return_fam['family_status'].value_counts()\n",
        "\n",
        "yes_return_fam = data_m.loc[data_m['debt'] == 1]\n",
        "fam_y = yes_return_fam['family_status'].value_counts()\n",
        "\n",
        "data_piv_fam = pd.pivot_table(data_m, index=['family_status'], values= 'purpose', columns='debt', aggfunc='count').fillna(0).astype(int)\n",
        "\n",
        "\n",
        "data_piv_fam['%'] = (fam_y/fam_n *100).fillna(0).astype(int)\n",
        "data_piv_fam['%'] = data_piv_fam['%'].astype(str) + ' %'\n",
        "print('Процент не возврата кредита в срок в зависимости от семейного положения:')\n",
        "print()\n",
        "print(data_piv_fam)"
      ],
      "execution_count": null,
      "outputs": [
        {
          "output_type": "stream",
          "text": [
            "Процент не возврата кредита в срок в зависимости от семейного положения:\n",
            "\n",
            "debt                       0    1     %\n",
            "family_status                          \n",
            "в разводе               1109   84   7 %\n",
            "вдовец / вдова           893   63   7 %\n",
            "гражданский брак        3779  385  10 %\n",
            "женат / замужем        11403  928   8 %\n",
            "не женат / не замужем   2531  273  10 %\n"
          ],
          "name": "stdout"
        }
      ]
    },
    {
      "cell_type": "markdown",
      "metadata": {
        "id": "_e4vCMQDIHK2"
      },
      "source": [
        "<a id='step_3.1.2'></a>"
      ]
    },
    {
      "cell_type": "markdown",
      "metadata": {
        "id": "AR1pb8YYIHK2"
      },
      "source": [
        "### Вывод"
      ]
    },
    {
      "cell_type": "markdown",
      "metadata": {
        "id": "EoQcJ3bpIHK3"
      },
      "source": [
        "Cемейные пары находящиеся в официальном браке кредиты берут чаще и возвращают в срок, примерно с той же вероятностью что и граждане находящиеся в разводе. В то время как гарждане находящиеся не замужем или в гражданском браке имеют самые большие шансы не вернуть кредит в срок."
      ]
    },
    {
      "cell_type": "markdown",
      "metadata": {
        "id": "l3oiBxPTIHK3"
      },
      "source": [
        "<a id='step_3.2'></a>"
      ]
    },
    {
      "cell_type": "markdown",
      "metadata": {
        "id": "68e8jlWyIHK4"
      },
      "source": [
        "- Есть ли зависимость между уровнем дохода и возвратом кредита в срок?"
      ]
    },
    {
      "cell_type": "markdown",
      "metadata": {
        "id": "M_P3PNFfIHK4"
      },
      "source": [
        "##### для начала определим граничные значения в списке дохода"
      ]
    },
    {
      "cell_type": "code",
      "metadata": {
        "scrolled": false,
        "id": "ro7sEQG-IHK4",
        "outputId": "a215acc0-2e89-4074-d565-56177e7f2a07"
      },
      "source": [
        "data_m.agg({'total_income':['min','max','mean']}).astype('int')"
      ],
      "execution_count": null,
      "outputs": [
        {
          "output_type": "execute_result",
          "data": {
            "text/html": [
              "<div>\n",
              "<style scoped>\n",
              "    .dataframe tbody tr th:only-of-type {\n",
              "        vertical-align: middle;\n",
              "    }\n",
              "\n",
              "    .dataframe tbody tr th {\n",
              "        vertical-align: top;\n",
              "    }\n",
              "\n",
              "    .dataframe thead th {\n",
              "        text-align: right;\n",
              "    }\n",
              "</style>\n",
              "<table border=\"1\" class=\"dataframe\">\n",
              "  <thead>\n",
              "    <tr style=\"text-align: right;\">\n",
              "      <th></th>\n",
              "      <th>total_income</th>\n",
              "    </tr>\n",
              "  </thead>\n",
              "  <tbody>\n",
              "    <tr>\n",
              "      <td>min</td>\n",
              "      <td>20667</td>\n",
              "    </tr>\n",
              "    <tr>\n",
              "      <td>max</td>\n",
              "      <td>2265604</td>\n",
              "    </tr>\n",
              "    <tr>\n",
              "      <td>mean</td>\n",
              "      <td>167416</td>\n",
              "    </tr>\n",
              "  </tbody>\n",
              "</table>\n",
              "</div>"
            ],
            "text/plain": [
              "      total_income\n",
              "min          20667\n",
              "max        2265604\n",
              "mean        167416"
            ]
          },
          "metadata": {
            "tags": []
          },
          "execution_count": 57
        }
      ]
    },
    {
      "cell_type": "markdown",
      "metadata": {
        "id": "Lj1vThDhIHK5"
      },
      "source": [
        "##### разделим уровень дохода на три основные категории для удобства сведения данных"
      ]
    },
    {
      "cell_type": "code",
      "metadata": {
        "scrolled": true,
        "id": "EqsF-BB5IHK5"
      },
      "source": [
        "def total_group(val):\n",
        "       \n",
        "        if val < 45000:\n",
        "                return '1_низкий доход (до 45 т.р.)'\n",
        "        if val <= 150000:\n",
        "                return '2_средний доход (до 150 т.р.)'\n",
        "        return '3_высокий доход(свыше 150 т.р.)'\n",
        "data_m['total_group'] = data_m['total_income'].apply(total_group)\n"
      ],
      "execution_count": null,
      "outputs": []
    },
    {
      "cell_type": "markdown",
      "metadata": {
        "id": "uPhOylbgIHK5"
      },
      "source": [
        "##### сведём в талицу полученные данные и дполним процентами"
      ]
    },
    {
      "cell_type": "code",
      "metadata": {
        "scrolled": true,
        "id": "OUUQsEuLIHK6",
        "outputId": "6d631faa-a5ae-4deb-bf95-368f11e74207"
      },
      "source": [
        "no_return_inc = data_m.loc[data_m['debt'] == 0]\n",
        "inc_n = no_return_inc['total_group'].value_counts()\n",
        "\n",
        "yes_return_inc = data_m.loc[data_m['debt'] == 1]\n",
        "inc_y = yes_return_inc['total_group'].value_counts()\n",
        "\n",
        "data_piv_inc = pd.pivot_table(data_m, index=['total_group'], values= 'purpose', columns='debt', aggfunc='count').astype(int)\n",
        "\n",
        "data_piv_inc['%'] = (inc_y/inc_n *100).fillna(0).astype(int)\n",
        "data_piv_inc['%'] = data_piv_inc['%'].astype(str) + ' %'\n",
        "print('Процент не возврата кредита в срок в зависимости от уровня дохода:')\n",
        "print()\n",
        "\n",
        "print(data_piv_inc)"
      ],
      "execution_count": null,
      "outputs": [
        {
          "output_type": "stream",
          "text": [
            "Процент не возврата кредита в срок в зависимости от уровня дохода:\n",
            "\n",
            "debt                                 0    1    %\n",
            "total_group                                     \n",
            "1_низкий доход (до 45 т.р.)        203   14  6 %\n",
            "2_средний доход (до 150 т.р.)     9086  827  9 %\n",
            "3_высокий доход(свыше 150 т.р.)  10426  892  8 %\n"
          ],
          "name": "stdout"
        }
      ]
    },
    {
      "cell_type": "markdown",
      "metadata": {
        "id": "GCiJBwxWIHK6"
      },
      "source": [
        "<a id='step_3.1.3'></a>"
      ]
    },
    {
      "cell_type": "markdown",
      "metadata": {
        "id": "VzRMyI10IHK6"
      },
      "source": [
        "### Вывод"
      ]
    },
    {
      "cell_type": "markdown",
      "metadata": {
        "id": "GPYK6ZBXIHK6"
      },
      "source": [
        "По результату выполенных подсчётов не трудно заметить, что люди имеющие доход ниже 45 т.р. кредитов берут меньше, но возвращают более охотно, в отличии от граждан с доходом до 150 т.р. и выше."
      ]
    },
    {
      "cell_type": "markdown",
      "metadata": {
        "id": "a17YI1JOIHK7"
      },
      "source": [
        "<a id='step_3.3'></a>"
      ]
    },
    {
      "cell_type": "markdown",
      "metadata": {
        "id": "_D1NuUioIHK7"
      },
      "source": [
        "- Как разные цели кредита влияют на его возврат в срок?"
      ]
    },
    {
      "cell_type": "code",
      "metadata": {
        "id": "CuHa9aJpIHK7"
      },
      "source": [
        "no_debt = data_m.loc[data_m['debt'] == 0]\n",
        "table_no_debt = no_debt['lemm_group'].value_counts()"
      ],
      "execution_count": null,
      "outputs": []
    },
    {
      "cell_type": "code",
      "metadata": {
        "id": "bb8ZU83xIHK8"
      },
      "source": [
        "yes_debt = data_m.loc[data_m['debt'] == 1]\n",
        "table_yes_debt = yes_debt['lemm_group'].value_counts()"
      ],
      "execution_count": null,
      "outputs": []
    },
    {
      "cell_type": "code",
      "metadata": {
        "id": "sC2Vyd5wIHK9",
        "outputId": "faad4c55-ebfa-4b06-c166-049b238daf09"
      },
      "source": [
        "data_piv_ev = pd.pivot_table(data_m, index=['lemm_group'], columns='debt', values= 'purpose', aggfunc='count')\n",
        "data_piv_ev['%'] = (table_yes_debt/table_no_debt * 100).astype(int).sort_values(ascending =False)\n",
        "data_piv_ev['%'] = data_piv_ev['%'].astype(str) + ' %'\n",
        "print('Процент не возврата кредита в срок в зависимости от образования:')\n",
        "print()\n",
        "\n",
        "print(data_piv_ev)"
      ],
      "execution_count": null,
      "outputs": [
        {
          "output_type": "stream",
          "text": [
            "Процент не возврата кредита в срок в зависимости от образования:\n",
            "\n",
            "debt                          0    1     %\n",
            "lemm_group                                \n",
            "Образование                3638  369  10 %\n",
            "Операции с автомобилями    3898  401  10 %\n",
            "Операции с недвижимостью  10023  780   7 %\n",
            "Свадьба                    2156  183   8 %\n"
          ],
          "name": "stdout"
        }
      ]
    },
    {
      "cell_type": "markdown",
      "metadata": {
        "id": "_XFb9sjCIHK-"
      },
      "source": [
        "<a id='step_3.1.4'></a>"
      ]
    },
    {
      "cell_type": "markdown",
      "metadata": {
        "id": "8ALTuuWhIHK_"
      },
      "source": [
        "### Вывод"
      ]
    },
    {
      "cell_type": "markdown",
      "metadata": {
        "id": "04niZ7RXIHLA"
      },
      "source": [
        "Кредит взятый на цели ремонта/покупки/обустройства жилья имеет самые высокие шансы быть возвращённым в срок, в отличии от кредитов, которые берут на цели получения образования или сделки связанные с автомобилем"
      ]
    },
    {
      "cell_type": "markdown",
      "metadata": {
        "id": "t4WB8agEIHLA"
      },
      "source": [
        "<a id='step_4'></a>\n",
        "<a href='#start'>Вернуться к оглавлению</a>"
      ]
    },
    {
      "cell_type": "markdown",
      "metadata": {
        "id": "Hs7hYaBmIHLB"
      },
      "source": [
        "### Шаг 4. Общий вывод"
      ]
    },
    {
      "cell_type": "markdown",
      "metadata": {
        "id": "sMKlVHkrIHLB"
      },
      "source": [
        "        Была проведена масштабная работа по обработке входных данных, часть из них была отредактирована методом усреднения среднего значения. Человеческого фактора ошибки в методе заполнеиня данных очень мало, в большинстве случаев это проблемы с выгрузкой данных, на что обязательно требуется обратить внимание.\n",
        "        В данном исследовании мы пришли к заключению, что люди берут кредитные деньги у банка в основном на четрыре категории - это 'автомобили', 'свадьба' и 'операции с жильём' и 'расходы связанные с обучением'. Абсолюным лидером в нашей статистике являются цели связанные с улучшением жилищных условий, которые занимают примерно половину объёма всех целей по потребности в кредите. Так же по статистике возврата безопаснее давать кредит под операции с жильём, чем под операции связанные с автомобилями, которые имеют практически те же шансы быть возвращёнными с задержкой как и кредиты связанные с получением дополнительного образования. \n",
        "        Тем самым можно сделать вывод, что банку для обеспечения безопасности и нивелирования задолжностей по кредитам выданным на цели 'авто' и 'обучение' необходимо повышать процентную ставку, в то время как по кредитам связанным с жильём, ставку можно чуть снизить, тем самым выйграв конкурентное преимущество перед другими предложениями на рынке и обеспечив больший объём. "
      ]
    },
    {
      "cell_type": "markdown",
      "metadata": {
        "id": "_dbFf5E1IHLC"
      },
      "source": [
        "#### <a href='#start'>Вернуться к оглавлению</a>"
      ]
    }
  ]
}